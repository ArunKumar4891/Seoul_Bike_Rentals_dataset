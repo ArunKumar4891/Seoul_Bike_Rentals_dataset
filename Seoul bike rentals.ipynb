{
 "cells": [
  {
   "cell_type": "markdown",
   "id": "64423133",
   "metadata": {},
   "source": [
    "# Seoul Bike Rentals dataset\n",
    "\n"
   ]
  },
  {
   "cell_type": "markdown",
   "id": "6a97b10e",
   "metadata": {},
   "source": [
    "### Data Set Information:\n",
    "\n",
    "#### Currently Rental bikes are introduced in many urban cities for the enhancement of mobility comfort. It is important to make the rental bike available and accessible to the public at the right time as it lessens the waiting time. Eventually, providing the city with a stable supply of rental bikes becomes a major concern. The crucial part is the prediction of bike count required at each hour for the stable supply of rental bikes. \n",
    "\n",
    "#### The dataset contains weather information (Temperature, Humidity, Windspeed, Visibility, Dewpoint, Solar radiation, Snowfall, Rainfall), the number of bikes rented per hour and date information.\n",
    "\n",
    "#####  URL : https://archive.ics.uci.edu/ml/datasets/Seoul+Bike+Sharing+Demand\n",
    "\n",
    "\n",
    "\n"
   ]
  },
  {
   "cell_type": "markdown",
   "id": "b56017a1",
   "metadata": {},
   "source": [
    "### Import the libraries"
   ]
  },
  {
   "cell_type": "code",
   "execution_count": 1,
   "id": "ae6f9d96",
   "metadata": {},
   "outputs": [],
   "source": [
    "import numpy as np\n",
    "import pandas as pd\n",
    "import matplotlib.pyplot as plt\n",
    "import seaborn as sns"
   ]
  },
  {
   "cell_type": "code",
   "execution_count": 2,
   "id": "e2e1d7f6",
   "metadata": {},
   "outputs": [
    {
     "data": {
      "text/html": [
       "<div>\n",
       "<style scoped>\n",
       "    .dataframe tbody tr th:only-of-type {\n",
       "        vertical-align: middle;\n",
       "    }\n",
       "\n",
       "    .dataframe tbody tr th {\n",
       "        vertical-align: top;\n",
       "    }\n",
       "\n",
       "    .dataframe thead th {\n",
       "        text-align: right;\n",
       "    }\n",
       "</style>\n",
       "<table border=\"1\" class=\"dataframe\">\n",
       "  <thead>\n",
       "    <tr style=\"text-align: right;\">\n",
       "      <th></th>\n",
       "      <th>Date</th>\n",
       "      <th>Rented Bike Count</th>\n",
       "      <th>Hour</th>\n",
       "      <th>Temperature(�C)</th>\n",
       "      <th>Humidity(%)</th>\n",
       "      <th>Wind speed (m/s)</th>\n",
       "      <th>Visibility (10m)</th>\n",
       "      <th>Dew point temperature(�C)</th>\n",
       "      <th>Solar Radiation (MJ/m2)</th>\n",
       "      <th>Rainfall(mm)</th>\n",
       "      <th>Snowfall (cm)</th>\n",
       "      <th>Seasons</th>\n",
       "      <th>Holiday</th>\n",
       "      <th>Functioning Day</th>\n",
       "    </tr>\n",
       "  </thead>\n",
       "  <tbody>\n",
       "    <tr>\n",
       "      <th>0</th>\n",
       "      <td>1/12/2017</td>\n",
       "      <td>254</td>\n",
       "      <td>0</td>\n",
       "      <td>-5.2</td>\n",
       "      <td>37</td>\n",
       "      <td>2.2</td>\n",
       "      <td>2000</td>\n",
       "      <td>-17.6</td>\n",
       "      <td>0.0</td>\n",
       "      <td>0.0</td>\n",
       "      <td>0.0</td>\n",
       "      <td>Winter</td>\n",
       "      <td>No Holiday</td>\n",
       "      <td>Yes</td>\n",
       "    </tr>\n",
       "    <tr>\n",
       "      <th>1</th>\n",
       "      <td>1/12/2017</td>\n",
       "      <td>204</td>\n",
       "      <td>1</td>\n",
       "      <td>-5.5</td>\n",
       "      <td>38</td>\n",
       "      <td>0.8</td>\n",
       "      <td>2000</td>\n",
       "      <td>-17.6</td>\n",
       "      <td>0.0</td>\n",
       "      <td>0.0</td>\n",
       "      <td>0.0</td>\n",
       "      <td>Winter</td>\n",
       "      <td>No Holiday</td>\n",
       "      <td>Yes</td>\n",
       "    </tr>\n",
       "    <tr>\n",
       "      <th>2</th>\n",
       "      <td>1/12/2017</td>\n",
       "      <td>173</td>\n",
       "      <td>2</td>\n",
       "      <td>-6.0</td>\n",
       "      <td>39</td>\n",
       "      <td>1.0</td>\n",
       "      <td>2000</td>\n",
       "      <td>-17.7</td>\n",
       "      <td>0.0</td>\n",
       "      <td>0.0</td>\n",
       "      <td>0.0</td>\n",
       "      <td>Winter</td>\n",
       "      <td>No Holiday</td>\n",
       "      <td>Yes</td>\n",
       "    </tr>\n",
       "    <tr>\n",
       "      <th>3</th>\n",
       "      <td>1/12/2017</td>\n",
       "      <td>107</td>\n",
       "      <td>3</td>\n",
       "      <td>-6.2</td>\n",
       "      <td>40</td>\n",
       "      <td>0.9</td>\n",
       "      <td>2000</td>\n",
       "      <td>-17.6</td>\n",
       "      <td>0.0</td>\n",
       "      <td>0.0</td>\n",
       "      <td>0.0</td>\n",
       "      <td>Winter</td>\n",
       "      <td>No Holiday</td>\n",
       "      <td>Yes</td>\n",
       "    </tr>\n",
       "    <tr>\n",
       "      <th>4</th>\n",
       "      <td>1/12/2017</td>\n",
       "      <td>78</td>\n",
       "      <td>4</td>\n",
       "      <td>-6.0</td>\n",
       "      <td>36</td>\n",
       "      <td>2.3</td>\n",
       "      <td>2000</td>\n",
       "      <td>-18.6</td>\n",
       "      <td>0.0</td>\n",
       "      <td>0.0</td>\n",
       "      <td>0.0</td>\n",
       "      <td>Winter</td>\n",
       "      <td>No Holiday</td>\n",
       "      <td>Yes</td>\n",
       "    </tr>\n",
       "    <tr>\n",
       "      <th>...</th>\n",
       "      <td>...</td>\n",
       "      <td>...</td>\n",
       "      <td>...</td>\n",
       "      <td>...</td>\n",
       "      <td>...</td>\n",
       "      <td>...</td>\n",
       "      <td>...</td>\n",
       "      <td>...</td>\n",
       "      <td>...</td>\n",
       "      <td>...</td>\n",
       "      <td>...</td>\n",
       "      <td>...</td>\n",
       "      <td>...</td>\n",
       "      <td>...</td>\n",
       "    </tr>\n",
       "    <tr>\n",
       "      <th>8755</th>\n",
       "      <td>30/11/2018</td>\n",
       "      <td>1003</td>\n",
       "      <td>19</td>\n",
       "      <td>4.2</td>\n",
       "      <td>34</td>\n",
       "      <td>2.6</td>\n",
       "      <td>1894</td>\n",
       "      <td>-10.3</td>\n",
       "      <td>0.0</td>\n",
       "      <td>0.0</td>\n",
       "      <td>0.0</td>\n",
       "      <td>Autumn</td>\n",
       "      <td>No Holiday</td>\n",
       "      <td>Yes</td>\n",
       "    </tr>\n",
       "    <tr>\n",
       "      <th>8756</th>\n",
       "      <td>30/11/2018</td>\n",
       "      <td>764</td>\n",
       "      <td>20</td>\n",
       "      <td>3.4</td>\n",
       "      <td>37</td>\n",
       "      <td>2.3</td>\n",
       "      <td>2000</td>\n",
       "      <td>-9.9</td>\n",
       "      <td>0.0</td>\n",
       "      <td>0.0</td>\n",
       "      <td>0.0</td>\n",
       "      <td>Autumn</td>\n",
       "      <td>No Holiday</td>\n",
       "      <td>Yes</td>\n",
       "    </tr>\n",
       "    <tr>\n",
       "      <th>8757</th>\n",
       "      <td>30/11/2018</td>\n",
       "      <td>694</td>\n",
       "      <td>21</td>\n",
       "      <td>2.6</td>\n",
       "      <td>39</td>\n",
       "      <td>0.3</td>\n",
       "      <td>1968</td>\n",
       "      <td>-9.9</td>\n",
       "      <td>0.0</td>\n",
       "      <td>0.0</td>\n",
       "      <td>0.0</td>\n",
       "      <td>Autumn</td>\n",
       "      <td>No Holiday</td>\n",
       "      <td>Yes</td>\n",
       "    </tr>\n",
       "    <tr>\n",
       "      <th>8758</th>\n",
       "      <td>30/11/2018</td>\n",
       "      <td>712</td>\n",
       "      <td>22</td>\n",
       "      <td>2.1</td>\n",
       "      <td>41</td>\n",
       "      <td>1.0</td>\n",
       "      <td>1859</td>\n",
       "      <td>-9.8</td>\n",
       "      <td>0.0</td>\n",
       "      <td>0.0</td>\n",
       "      <td>0.0</td>\n",
       "      <td>Autumn</td>\n",
       "      <td>No Holiday</td>\n",
       "      <td>Yes</td>\n",
       "    </tr>\n",
       "    <tr>\n",
       "      <th>8759</th>\n",
       "      <td>30/11/2018</td>\n",
       "      <td>584</td>\n",
       "      <td>23</td>\n",
       "      <td>1.9</td>\n",
       "      <td>43</td>\n",
       "      <td>1.3</td>\n",
       "      <td>1909</td>\n",
       "      <td>-9.3</td>\n",
       "      <td>0.0</td>\n",
       "      <td>0.0</td>\n",
       "      <td>0.0</td>\n",
       "      <td>Autumn</td>\n",
       "      <td>No Holiday</td>\n",
       "      <td>Yes</td>\n",
       "    </tr>\n",
       "  </tbody>\n",
       "</table>\n",
       "<p>8760 rows × 14 columns</p>\n",
       "</div>"
      ],
      "text/plain": [
       "            Date  Rented Bike Count  Hour  Temperature(�C)  Humidity(%)  \\\n",
       "0      1/12/2017                254     0             -5.2           37   \n",
       "1      1/12/2017                204     1             -5.5           38   \n",
       "2      1/12/2017                173     2             -6.0           39   \n",
       "3      1/12/2017                107     3             -6.2           40   \n",
       "4      1/12/2017                 78     4             -6.0           36   \n",
       "...          ...                ...   ...              ...          ...   \n",
       "8755  30/11/2018               1003    19              4.2           34   \n",
       "8756  30/11/2018                764    20              3.4           37   \n",
       "8757  30/11/2018                694    21              2.6           39   \n",
       "8758  30/11/2018                712    22              2.1           41   \n",
       "8759  30/11/2018                584    23              1.9           43   \n",
       "\n",
       "      Wind speed (m/s)  Visibility (10m)  Dew point temperature(�C)  \\\n",
       "0                  2.2              2000                      -17.6   \n",
       "1                  0.8              2000                      -17.6   \n",
       "2                  1.0              2000                      -17.7   \n",
       "3                  0.9              2000                      -17.6   \n",
       "4                  2.3              2000                      -18.6   \n",
       "...                ...               ...                        ...   \n",
       "8755               2.6              1894                      -10.3   \n",
       "8756               2.3              2000                       -9.9   \n",
       "8757               0.3              1968                       -9.9   \n",
       "8758               1.0              1859                       -9.8   \n",
       "8759               1.3              1909                       -9.3   \n",
       "\n",
       "      Solar Radiation (MJ/m2)  Rainfall(mm)  Snowfall (cm) Seasons  \\\n",
       "0                         0.0           0.0            0.0  Winter   \n",
       "1                         0.0           0.0            0.0  Winter   \n",
       "2                         0.0           0.0            0.0  Winter   \n",
       "3                         0.0           0.0            0.0  Winter   \n",
       "4                         0.0           0.0            0.0  Winter   \n",
       "...                       ...           ...            ...     ...   \n",
       "8755                      0.0           0.0            0.0  Autumn   \n",
       "8756                      0.0           0.0            0.0  Autumn   \n",
       "8757                      0.0           0.0            0.0  Autumn   \n",
       "8758                      0.0           0.0            0.0  Autumn   \n",
       "8759                      0.0           0.0            0.0  Autumn   \n",
       "\n",
       "         Holiday Functioning Day  \n",
       "0     No Holiday             Yes  \n",
       "1     No Holiday             Yes  \n",
       "2     No Holiday             Yes  \n",
       "3     No Holiday             Yes  \n",
       "4     No Holiday             Yes  \n",
       "...          ...             ...  \n",
       "8755  No Holiday             Yes  \n",
       "8756  No Holiday             Yes  \n",
       "8757  No Holiday             Yes  \n",
       "8758  No Holiday             Yes  \n",
       "8759  No Holiday             Yes  \n",
       "\n",
       "[8760 rows x 14 columns]"
      ]
     },
     "execution_count": 2,
     "metadata": {},
     "output_type": "execute_result"
    }
   ],
   "source": [
    "df=pd.read_csv(r'D:\\SeoulBikeData.csv')\n",
    "df"
   ]
  },
  {
   "cell_type": "code",
   "execution_count": 3,
   "id": "1d8c4d5a",
   "metadata": {},
   "outputs": [
    {
     "data": {
      "text/html": [
       "<div>\n",
       "<style scoped>\n",
       "    .dataframe tbody tr th:only-of-type {\n",
       "        vertical-align: middle;\n",
       "    }\n",
       "\n",
       "    .dataframe tbody tr th {\n",
       "        vertical-align: top;\n",
       "    }\n",
       "\n",
       "    .dataframe thead th {\n",
       "        text-align: right;\n",
       "    }\n",
       "</style>\n",
       "<table border=\"1\" class=\"dataframe\">\n",
       "  <thead>\n",
       "    <tr style=\"text-align: right;\">\n",
       "      <th></th>\n",
       "      <th>Date</th>\n",
       "      <th>Rented Bike Count</th>\n",
       "      <th>Hour</th>\n",
       "      <th>Temperature(�C)</th>\n",
       "      <th>Humidity(%)</th>\n",
       "      <th>Wind speed (m/s)</th>\n",
       "      <th>Visibility (10m)</th>\n",
       "      <th>Dew point temperature(�C)</th>\n",
       "      <th>Solar Radiation (MJ/m2)</th>\n",
       "      <th>Rainfall(mm)</th>\n",
       "      <th>Snowfall (cm)</th>\n",
       "      <th>Seasons</th>\n",
       "      <th>Holiday</th>\n",
       "      <th>Functioning Day</th>\n",
       "    </tr>\n",
       "  </thead>\n",
       "  <tbody>\n",
       "    <tr>\n",
       "      <th>0</th>\n",
       "      <td>1/12/2017</td>\n",
       "      <td>254</td>\n",
       "      <td>0</td>\n",
       "      <td>-5.2</td>\n",
       "      <td>37</td>\n",
       "      <td>2.2</td>\n",
       "      <td>2000</td>\n",
       "      <td>-17.6</td>\n",
       "      <td>0.0</td>\n",
       "      <td>0.0</td>\n",
       "      <td>0.0</td>\n",
       "      <td>Winter</td>\n",
       "      <td>No Holiday</td>\n",
       "      <td>Yes</td>\n",
       "    </tr>\n",
       "    <tr>\n",
       "      <th>1</th>\n",
       "      <td>1/12/2017</td>\n",
       "      <td>204</td>\n",
       "      <td>1</td>\n",
       "      <td>-5.5</td>\n",
       "      <td>38</td>\n",
       "      <td>0.8</td>\n",
       "      <td>2000</td>\n",
       "      <td>-17.6</td>\n",
       "      <td>0.0</td>\n",
       "      <td>0.0</td>\n",
       "      <td>0.0</td>\n",
       "      <td>Winter</td>\n",
       "      <td>No Holiday</td>\n",
       "      <td>Yes</td>\n",
       "    </tr>\n",
       "    <tr>\n",
       "      <th>2</th>\n",
       "      <td>1/12/2017</td>\n",
       "      <td>173</td>\n",
       "      <td>2</td>\n",
       "      <td>-6.0</td>\n",
       "      <td>39</td>\n",
       "      <td>1.0</td>\n",
       "      <td>2000</td>\n",
       "      <td>-17.7</td>\n",
       "      <td>0.0</td>\n",
       "      <td>0.0</td>\n",
       "      <td>0.0</td>\n",
       "      <td>Winter</td>\n",
       "      <td>No Holiday</td>\n",
       "      <td>Yes</td>\n",
       "    </tr>\n",
       "    <tr>\n",
       "      <th>3</th>\n",
       "      <td>1/12/2017</td>\n",
       "      <td>107</td>\n",
       "      <td>3</td>\n",
       "      <td>-6.2</td>\n",
       "      <td>40</td>\n",
       "      <td>0.9</td>\n",
       "      <td>2000</td>\n",
       "      <td>-17.6</td>\n",
       "      <td>0.0</td>\n",
       "      <td>0.0</td>\n",
       "      <td>0.0</td>\n",
       "      <td>Winter</td>\n",
       "      <td>No Holiday</td>\n",
       "      <td>Yes</td>\n",
       "    </tr>\n",
       "    <tr>\n",
       "      <th>4</th>\n",
       "      <td>1/12/2017</td>\n",
       "      <td>78</td>\n",
       "      <td>4</td>\n",
       "      <td>-6.0</td>\n",
       "      <td>36</td>\n",
       "      <td>2.3</td>\n",
       "      <td>2000</td>\n",
       "      <td>-18.6</td>\n",
       "      <td>0.0</td>\n",
       "      <td>0.0</td>\n",
       "      <td>0.0</td>\n",
       "      <td>Winter</td>\n",
       "      <td>No Holiday</td>\n",
       "      <td>Yes</td>\n",
       "    </tr>\n",
       "  </tbody>\n",
       "</table>\n",
       "</div>"
      ],
      "text/plain": [
       "        Date  Rented Bike Count  Hour  Temperature(�C)  Humidity(%)  \\\n",
       "0  1/12/2017                254     0             -5.2           37   \n",
       "1  1/12/2017                204     1             -5.5           38   \n",
       "2  1/12/2017                173     2             -6.0           39   \n",
       "3  1/12/2017                107     3             -6.2           40   \n",
       "4  1/12/2017                 78     4             -6.0           36   \n",
       "\n",
       "   Wind speed (m/s)  Visibility (10m)  Dew point temperature(�C)  \\\n",
       "0               2.2              2000                      -17.6   \n",
       "1               0.8              2000                      -17.6   \n",
       "2               1.0              2000                      -17.7   \n",
       "3               0.9              2000                      -17.6   \n",
       "4               2.3              2000                      -18.6   \n",
       "\n",
       "   Solar Radiation (MJ/m2)  Rainfall(mm)  Snowfall (cm) Seasons     Holiday  \\\n",
       "0                      0.0           0.0            0.0  Winter  No Holiday   \n",
       "1                      0.0           0.0            0.0  Winter  No Holiday   \n",
       "2                      0.0           0.0            0.0  Winter  No Holiday   \n",
       "3                      0.0           0.0            0.0  Winter  No Holiday   \n",
       "4                      0.0           0.0            0.0  Winter  No Holiday   \n",
       "\n",
       "  Functioning Day  \n",
       "0             Yes  \n",
       "1             Yes  \n",
       "2             Yes  \n",
       "3             Yes  \n",
       "4             Yes  "
      ]
     },
     "execution_count": 3,
     "metadata": {},
     "output_type": "execute_result"
    }
   ],
   "source": [
    "df.head()"
   ]
  },
  {
   "cell_type": "code",
   "execution_count": 4,
   "id": "3f9814d3",
   "metadata": {},
   "outputs": [
    {
     "data": {
      "text/html": [
       "<div>\n",
       "<style scoped>\n",
       "    .dataframe tbody tr th:only-of-type {\n",
       "        vertical-align: middle;\n",
       "    }\n",
       "\n",
       "    .dataframe tbody tr th {\n",
       "        vertical-align: top;\n",
       "    }\n",
       "\n",
       "    .dataframe thead th {\n",
       "        text-align: right;\n",
       "    }\n",
       "</style>\n",
       "<table border=\"1\" class=\"dataframe\">\n",
       "  <thead>\n",
       "    <tr style=\"text-align: right;\">\n",
       "      <th></th>\n",
       "      <th>Date</th>\n",
       "      <th>Rented Bike Count</th>\n",
       "      <th>Hour</th>\n",
       "      <th>Temperature(�C)</th>\n",
       "      <th>Humidity(%)</th>\n",
       "      <th>Wind speed (m/s)</th>\n",
       "      <th>Visibility (10m)</th>\n",
       "      <th>Dew point temperature(�C)</th>\n",
       "      <th>Solar Radiation (MJ/m2)</th>\n",
       "      <th>Rainfall(mm)</th>\n",
       "      <th>Snowfall (cm)</th>\n",
       "      <th>Seasons</th>\n",
       "      <th>Holiday</th>\n",
       "      <th>Functioning Day</th>\n",
       "    </tr>\n",
       "  </thead>\n",
       "  <tbody>\n",
       "    <tr>\n",
       "      <th>8755</th>\n",
       "      <td>30/11/2018</td>\n",
       "      <td>1003</td>\n",
       "      <td>19</td>\n",
       "      <td>4.2</td>\n",
       "      <td>34</td>\n",
       "      <td>2.6</td>\n",
       "      <td>1894</td>\n",
       "      <td>-10.3</td>\n",
       "      <td>0.0</td>\n",
       "      <td>0.0</td>\n",
       "      <td>0.0</td>\n",
       "      <td>Autumn</td>\n",
       "      <td>No Holiday</td>\n",
       "      <td>Yes</td>\n",
       "    </tr>\n",
       "    <tr>\n",
       "      <th>8756</th>\n",
       "      <td>30/11/2018</td>\n",
       "      <td>764</td>\n",
       "      <td>20</td>\n",
       "      <td>3.4</td>\n",
       "      <td>37</td>\n",
       "      <td>2.3</td>\n",
       "      <td>2000</td>\n",
       "      <td>-9.9</td>\n",
       "      <td>0.0</td>\n",
       "      <td>0.0</td>\n",
       "      <td>0.0</td>\n",
       "      <td>Autumn</td>\n",
       "      <td>No Holiday</td>\n",
       "      <td>Yes</td>\n",
       "    </tr>\n",
       "    <tr>\n",
       "      <th>8757</th>\n",
       "      <td>30/11/2018</td>\n",
       "      <td>694</td>\n",
       "      <td>21</td>\n",
       "      <td>2.6</td>\n",
       "      <td>39</td>\n",
       "      <td>0.3</td>\n",
       "      <td>1968</td>\n",
       "      <td>-9.9</td>\n",
       "      <td>0.0</td>\n",
       "      <td>0.0</td>\n",
       "      <td>0.0</td>\n",
       "      <td>Autumn</td>\n",
       "      <td>No Holiday</td>\n",
       "      <td>Yes</td>\n",
       "    </tr>\n",
       "    <tr>\n",
       "      <th>8758</th>\n",
       "      <td>30/11/2018</td>\n",
       "      <td>712</td>\n",
       "      <td>22</td>\n",
       "      <td>2.1</td>\n",
       "      <td>41</td>\n",
       "      <td>1.0</td>\n",
       "      <td>1859</td>\n",
       "      <td>-9.8</td>\n",
       "      <td>0.0</td>\n",
       "      <td>0.0</td>\n",
       "      <td>0.0</td>\n",
       "      <td>Autumn</td>\n",
       "      <td>No Holiday</td>\n",
       "      <td>Yes</td>\n",
       "    </tr>\n",
       "    <tr>\n",
       "      <th>8759</th>\n",
       "      <td>30/11/2018</td>\n",
       "      <td>584</td>\n",
       "      <td>23</td>\n",
       "      <td>1.9</td>\n",
       "      <td>43</td>\n",
       "      <td>1.3</td>\n",
       "      <td>1909</td>\n",
       "      <td>-9.3</td>\n",
       "      <td>0.0</td>\n",
       "      <td>0.0</td>\n",
       "      <td>0.0</td>\n",
       "      <td>Autumn</td>\n",
       "      <td>No Holiday</td>\n",
       "      <td>Yes</td>\n",
       "    </tr>\n",
       "  </tbody>\n",
       "</table>\n",
       "</div>"
      ],
      "text/plain": [
       "            Date  Rented Bike Count  Hour  Temperature(�C)  Humidity(%)  \\\n",
       "8755  30/11/2018               1003    19              4.2           34   \n",
       "8756  30/11/2018                764    20              3.4           37   \n",
       "8757  30/11/2018                694    21              2.6           39   \n",
       "8758  30/11/2018                712    22              2.1           41   \n",
       "8759  30/11/2018                584    23              1.9           43   \n",
       "\n",
       "      Wind speed (m/s)  Visibility (10m)  Dew point temperature(�C)  \\\n",
       "8755               2.6              1894                      -10.3   \n",
       "8756               2.3              2000                       -9.9   \n",
       "8757               0.3              1968                       -9.9   \n",
       "8758               1.0              1859                       -9.8   \n",
       "8759               1.3              1909                       -9.3   \n",
       "\n",
       "      Solar Radiation (MJ/m2)  Rainfall(mm)  Snowfall (cm) Seasons  \\\n",
       "8755                      0.0           0.0            0.0  Autumn   \n",
       "8756                      0.0           0.0            0.0  Autumn   \n",
       "8757                      0.0           0.0            0.0  Autumn   \n",
       "8758                      0.0           0.0            0.0  Autumn   \n",
       "8759                      0.0           0.0            0.0  Autumn   \n",
       "\n",
       "         Holiday Functioning Day  \n",
       "8755  No Holiday             Yes  \n",
       "8756  No Holiday             Yes  \n",
       "8757  No Holiday             Yes  \n",
       "8758  No Holiday             Yes  \n",
       "8759  No Holiday             Yes  "
      ]
     },
     "execution_count": 4,
     "metadata": {},
     "output_type": "execute_result"
    }
   ],
   "source": [
    "df.tail()"
   ]
  },
  {
   "cell_type": "markdown",
   "id": "a8fed7bc",
   "metadata": {},
   "source": [
    "### Dataset informations\n",
    "\n",
    "Date : year-month-day\n",
    "\n",
    "Rented Bike count - Count of bikes rented at each hour\n",
    "\n",
    "Hour - Hour of he day\n",
    "\n",
    "Temperature-Temperature in Celsius\n",
    "\n",
    "Humidity - %\n",
    "\n",
    "Windspeed - m/s\n",
    "\n",
    "Visibility - 10m\n",
    "\n",
    "Dew point temperature - Celsius\n",
    "\n",
    "Solar radiation - MJ/m2\n",
    "\n",
    "Rainfall - mm\n",
    "\n",
    "Snowfall - cm\n",
    "\n",
    "Seasons - Winter, Spring, Summer, Autumn\n",
    "\n",
    "Holiday - Holiday/No holiday\n",
    "\n",
    "Functional Day - NoFunc(Non Functional Hours), Fun(Functional hours)"
   ]
  },
  {
   "cell_type": "code",
   "execution_count": 5,
   "id": "ffd0e24c",
   "metadata": {},
   "outputs": [
    {
     "data": {
      "text/plain": [
       "Index(['Date', 'Rented Bike Count', 'Hour', 'Temperature(�C)', 'Humidity(%)',\n",
       "       'Wind speed (m/s)', 'Visibility (10m)', 'Dew point temperature(�C)',\n",
       "       'Solar Radiation (MJ/m2)', 'Rainfall(mm)', 'Snowfall (cm)', 'Seasons',\n",
       "       'Holiday', 'Functioning Day'],\n",
       "      dtype='object')"
      ]
     },
     "execution_count": 5,
     "metadata": {},
     "output_type": "execute_result"
    }
   ],
   "source": [
    "df.columns"
   ]
  },
  {
   "cell_type": "code",
   "execution_count": 6,
   "id": "5017cffa",
   "metadata": {},
   "outputs": [
    {
     "data": {
      "text/plain": [
       "pandas.core.frame.DataFrame"
      ]
     },
     "execution_count": 6,
     "metadata": {},
     "output_type": "execute_result"
    }
   ],
   "source": [
    "type(df)"
   ]
  },
  {
   "cell_type": "code",
   "execution_count": 7,
   "id": "eaca69a7",
   "metadata": {},
   "outputs": [
    {
     "data": {
      "text/plain": [
       "Date                          object\n",
       "Rented Bike Count              int64\n",
       "Hour                           int64\n",
       "Temperature(�C)              float64\n",
       "Humidity(%)                    int64\n",
       "Wind speed (m/s)             float64\n",
       "Visibility (10m)               int64\n",
       "Dew point temperature(�C)    float64\n",
       "Solar Radiation (MJ/m2)      float64\n",
       "Rainfall(mm)                 float64\n",
       "Snowfall (cm)                float64\n",
       "Seasons                       object\n",
       "Holiday                       object\n",
       "Functioning Day               object\n",
       "dtype: object"
      ]
     },
     "execution_count": 7,
     "metadata": {},
     "output_type": "execute_result"
    }
   ],
   "source": [
    "df.dtypes"
   ]
  },
  {
   "cell_type": "code",
   "execution_count": 8,
   "id": "802e61c6",
   "metadata": {},
   "outputs": [
    {
     "data": {
      "text/html": [
       "<div>\n",
       "<style scoped>\n",
       "    .dataframe tbody tr th:only-of-type {\n",
       "        vertical-align: middle;\n",
       "    }\n",
       "\n",
       "    .dataframe tbody tr th {\n",
       "        vertical-align: top;\n",
       "    }\n",
       "\n",
       "    .dataframe thead th {\n",
       "        text-align: right;\n",
       "    }\n",
       "</style>\n",
       "<table border=\"1\" class=\"dataframe\">\n",
       "  <thead>\n",
       "    <tr style=\"text-align: right;\">\n",
       "      <th></th>\n",
       "      <th>Date</th>\n",
       "      <th>Rented Bike Count</th>\n",
       "      <th>Hour</th>\n",
       "      <th>Temperature(�C)</th>\n",
       "      <th>Humidity(%)</th>\n",
       "      <th>Wind speed (m/s)</th>\n",
       "      <th>Visibility (10m)</th>\n",
       "      <th>Dew point temperature(�C)</th>\n",
       "      <th>Solar Radiation (MJ/m2)</th>\n",
       "      <th>Rainfall(mm)</th>\n",
       "      <th>Snowfall (cm)</th>\n",
       "      <th>Seasons</th>\n",
       "      <th>Holiday</th>\n",
       "      <th>Functioning Day</th>\n",
       "    </tr>\n",
       "  </thead>\n",
       "  <tbody>\n",
       "    <tr>\n",
       "      <th>0</th>\n",
       "      <td>False</td>\n",
       "      <td>False</td>\n",
       "      <td>False</td>\n",
       "      <td>False</td>\n",
       "      <td>False</td>\n",
       "      <td>False</td>\n",
       "      <td>False</td>\n",
       "      <td>False</td>\n",
       "      <td>False</td>\n",
       "      <td>False</td>\n",
       "      <td>False</td>\n",
       "      <td>False</td>\n",
       "      <td>False</td>\n",
       "      <td>False</td>\n",
       "    </tr>\n",
       "    <tr>\n",
       "      <th>1</th>\n",
       "      <td>False</td>\n",
       "      <td>False</td>\n",
       "      <td>False</td>\n",
       "      <td>False</td>\n",
       "      <td>False</td>\n",
       "      <td>False</td>\n",
       "      <td>False</td>\n",
       "      <td>False</td>\n",
       "      <td>False</td>\n",
       "      <td>False</td>\n",
       "      <td>False</td>\n",
       "      <td>False</td>\n",
       "      <td>False</td>\n",
       "      <td>False</td>\n",
       "    </tr>\n",
       "    <tr>\n",
       "      <th>2</th>\n",
       "      <td>False</td>\n",
       "      <td>False</td>\n",
       "      <td>False</td>\n",
       "      <td>False</td>\n",
       "      <td>False</td>\n",
       "      <td>False</td>\n",
       "      <td>False</td>\n",
       "      <td>False</td>\n",
       "      <td>False</td>\n",
       "      <td>False</td>\n",
       "      <td>False</td>\n",
       "      <td>False</td>\n",
       "      <td>False</td>\n",
       "      <td>False</td>\n",
       "    </tr>\n",
       "    <tr>\n",
       "      <th>3</th>\n",
       "      <td>False</td>\n",
       "      <td>False</td>\n",
       "      <td>False</td>\n",
       "      <td>False</td>\n",
       "      <td>False</td>\n",
       "      <td>False</td>\n",
       "      <td>False</td>\n",
       "      <td>False</td>\n",
       "      <td>False</td>\n",
       "      <td>False</td>\n",
       "      <td>False</td>\n",
       "      <td>False</td>\n",
       "      <td>False</td>\n",
       "      <td>False</td>\n",
       "    </tr>\n",
       "    <tr>\n",
       "      <th>4</th>\n",
       "      <td>False</td>\n",
       "      <td>False</td>\n",
       "      <td>False</td>\n",
       "      <td>False</td>\n",
       "      <td>False</td>\n",
       "      <td>False</td>\n",
       "      <td>False</td>\n",
       "      <td>False</td>\n",
       "      <td>False</td>\n",
       "      <td>False</td>\n",
       "      <td>False</td>\n",
       "      <td>False</td>\n",
       "      <td>False</td>\n",
       "      <td>False</td>\n",
       "    </tr>\n",
       "    <tr>\n",
       "      <th>...</th>\n",
       "      <td>...</td>\n",
       "      <td>...</td>\n",
       "      <td>...</td>\n",
       "      <td>...</td>\n",
       "      <td>...</td>\n",
       "      <td>...</td>\n",
       "      <td>...</td>\n",
       "      <td>...</td>\n",
       "      <td>...</td>\n",
       "      <td>...</td>\n",
       "      <td>...</td>\n",
       "      <td>...</td>\n",
       "      <td>...</td>\n",
       "      <td>...</td>\n",
       "    </tr>\n",
       "    <tr>\n",
       "      <th>8755</th>\n",
       "      <td>False</td>\n",
       "      <td>False</td>\n",
       "      <td>False</td>\n",
       "      <td>False</td>\n",
       "      <td>False</td>\n",
       "      <td>False</td>\n",
       "      <td>False</td>\n",
       "      <td>False</td>\n",
       "      <td>False</td>\n",
       "      <td>False</td>\n",
       "      <td>False</td>\n",
       "      <td>False</td>\n",
       "      <td>False</td>\n",
       "      <td>False</td>\n",
       "    </tr>\n",
       "    <tr>\n",
       "      <th>8756</th>\n",
       "      <td>False</td>\n",
       "      <td>False</td>\n",
       "      <td>False</td>\n",
       "      <td>False</td>\n",
       "      <td>False</td>\n",
       "      <td>False</td>\n",
       "      <td>False</td>\n",
       "      <td>False</td>\n",
       "      <td>False</td>\n",
       "      <td>False</td>\n",
       "      <td>False</td>\n",
       "      <td>False</td>\n",
       "      <td>False</td>\n",
       "      <td>False</td>\n",
       "    </tr>\n",
       "    <tr>\n",
       "      <th>8757</th>\n",
       "      <td>False</td>\n",
       "      <td>False</td>\n",
       "      <td>False</td>\n",
       "      <td>False</td>\n",
       "      <td>False</td>\n",
       "      <td>False</td>\n",
       "      <td>False</td>\n",
       "      <td>False</td>\n",
       "      <td>False</td>\n",
       "      <td>False</td>\n",
       "      <td>False</td>\n",
       "      <td>False</td>\n",
       "      <td>False</td>\n",
       "      <td>False</td>\n",
       "    </tr>\n",
       "    <tr>\n",
       "      <th>8758</th>\n",
       "      <td>False</td>\n",
       "      <td>False</td>\n",
       "      <td>False</td>\n",
       "      <td>False</td>\n",
       "      <td>False</td>\n",
       "      <td>False</td>\n",
       "      <td>False</td>\n",
       "      <td>False</td>\n",
       "      <td>False</td>\n",
       "      <td>False</td>\n",
       "      <td>False</td>\n",
       "      <td>False</td>\n",
       "      <td>False</td>\n",
       "      <td>False</td>\n",
       "    </tr>\n",
       "    <tr>\n",
       "      <th>8759</th>\n",
       "      <td>False</td>\n",
       "      <td>False</td>\n",
       "      <td>False</td>\n",
       "      <td>False</td>\n",
       "      <td>False</td>\n",
       "      <td>False</td>\n",
       "      <td>False</td>\n",
       "      <td>False</td>\n",
       "      <td>False</td>\n",
       "      <td>False</td>\n",
       "      <td>False</td>\n",
       "      <td>False</td>\n",
       "      <td>False</td>\n",
       "      <td>False</td>\n",
       "    </tr>\n",
       "  </tbody>\n",
       "</table>\n",
       "<p>8760 rows × 14 columns</p>\n",
       "</div>"
      ],
      "text/plain": [
       "       Date  Rented Bike Count   Hour  Temperature(�C)  Humidity(%)  \\\n",
       "0     False              False  False            False        False   \n",
       "1     False              False  False            False        False   \n",
       "2     False              False  False            False        False   \n",
       "3     False              False  False            False        False   \n",
       "4     False              False  False            False        False   \n",
       "...     ...                ...    ...              ...          ...   \n",
       "8755  False              False  False            False        False   \n",
       "8756  False              False  False            False        False   \n",
       "8757  False              False  False            False        False   \n",
       "8758  False              False  False            False        False   \n",
       "8759  False              False  False            False        False   \n",
       "\n",
       "      Wind speed (m/s)  Visibility (10m)  Dew point temperature(�C)  \\\n",
       "0                False             False                      False   \n",
       "1                False             False                      False   \n",
       "2                False             False                      False   \n",
       "3                False             False                      False   \n",
       "4                False             False                      False   \n",
       "...                ...               ...                        ...   \n",
       "8755             False             False                      False   \n",
       "8756             False             False                      False   \n",
       "8757             False             False                      False   \n",
       "8758             False             False                      False   \n",
       "8759             False             False                      False   \n",
       "\n",
       "      Solar Radiation (MJ/m2)  Rainfall(mm)  Snowfall (cm)  Seasons  Holiday  \\\n",
       "0                       False         False          False    False    False   \n",
       "1                       False         False          False    False    False   \n",
       "2                       False         False          False    False    False   \n",
       "3                       False         False          False    False    False   \n",
       "4                       False         False          False    False    False   \n",
       "...                       ...           ...            ...      ...      ...   \n",
       "8755                    False         False          False    False    False   \n",
       "8756                    False         False          False    False    False   \n",
       "8757                    False         False          False    False    False   \n",
       "8758                    False         False          False    False    False   \n",
       "8759                    False         False          False    False    False   \n",
       "\n",
       "      Functioning Day  \n",
       "0               False  \n",
       "1               False  \n",
       "2               False  \n",
       "3               False  \n",
       "4               False  \n",
       "...               ...  \n",
       "8755            False  \n",
       "8756            False  \n",
       "8757            False  \n",
       "8758            False  \n",
       "8759            False  \n",
       "\n",
       "[8760 rows x 14 columns]"
      ]
     },
     "execution_count": 8,
     "metadata": {},
     "output_type": "execute_result"
    }
   ],
   "source": [
    "df.isnull()"
   ]
  },
  {
   "cell_type": "code",
   "execution_count": 9,
   "id": "c973e3b2",
   "metadata": {},
   "outputs": [
    {
     "data": {
      "text/plain": [
       "Date                         0\n",
       "Rented Bike Count            0\n",
       "Hour                         0\n",
       "Temperature(�C)              0\n",
       "Humidity(%)                  0\n",
       "Wind speed (m/s)             0\n",
       "Visibility (10m)             0\n",
       "Dew point temperature(�C)    0\n",
       "Solar Radiation (MJ/m2)      0\n",
       "Rainfall(mm)                 0\n",
       "Snowfall (cm)                0\n",
       "Seasons                      0\n",
       "Holiday                      0\n",
       "Functioning Day              0\n",
       "dtype: int64"
      ]
     },
     "execution_count": 9,
     "metadata": {},
     "output_type": "execute_result"
    }
   ],
   "source": [
    "df.isna().sum()"
   ]
  },
  {
   "cell_type": "code",
   "execution_count": 10,
   "id": "1fcbcf6d",
   "metadata": {},
   "outputs": [
    {
     "data": {
      "text/plain": [
       "(array([], dtype=int64), array([], dtype=int64))"
      ]
     },
     "execution_count": 10,
     "metadata": {},
     "output_type": "execute_result"
    }
   ],
   "source": [
    "NULL = np.where(df.isnull()==True)\n",
    "NULL"
   ]
  },
  {
   "cell_type": "code",
   "execution_count": 11,
   "id": "c858d484",
   "metadata": {},
   "outputs": [
    {
     "data": {
      "text/html": [
       "<div>\n",
       "<style scoped>\n",
       "    .dataframe tbody tr th:only-of-type {\n",
       "        vertical-align: middle;\n",
       "    }\n",
       "\n",
       "    .dataframe tbody tr th {\n",
       "        vertical-align: top;\n",
       "    }\n",
       "\n",
       "    .dataframe thead th {\n",
       "        text-align: right;\n",
       "    }\n",
       "</style>\n",
       "<table border=\"1\" class=\"dataframe\">\n",
       "  <thead>\n",
       "    <tr style=\"text-align: right;\">\n",
       "      <th></th>\n",
       "      <th>Rented Bike Count</th>\n",
       "      <th>Hour</th>\n",
       "      <th>Temperature(�C)</th>\n",
       "      <th>Humidity(%)</th>\n",
       "      <th>Wind speed (m/s)</th>\n",
       "      <th>Visibility (10m)</th>\n",
       "      <th>Dew point temperature(�C)</th>\n",
       "      <th>Solar Radiation (MJ/m2)</th>\n",
       "      <th>Rainfall(mm)</th>\n",
       "      <th>Snowfall (cm)</th>\n",
       "    </tr>\n",
       "  </thead>\n",
       "  <tbody>\n",
       "    <tr>\n",
       "      <th>count</th>\n",
       "      <td>8760.000000</td>\n",
       "      <td>8760.000000</td>\n",
       "      <td>8760.000000</td>\n",
       "      <td>8760.000000</td>\n",
       "      <td>8760.000000</td>\n",
       "      <td>8760.000000</td>\n",
       "      <td>8760.000000</td>\n",
       "      <td>8760.000000</td>\n",
       "      <td>8760.000000</td>\n",
       "      <td>8760.000000</td>\n",
       "    </tr>\n",
       "    <tr>\n",
       "      <th>mean</th>\n",
       "      <td>704.602055</td>\n",
       "      <td>11.500000</td>\n",
       "      <td>12.882922</td>\n",
       "      <td>58.226256</td>\n",
       "      <td>1.724909</td>\n",
       "      <td>1436.825799</td>\n",
       "      <td>4.073813</td>\n",
       "      <td>0.569111</td>\n",
       "      <td>0.148687</td>\n",
       "      <td>0.075068</td>\n",
       "    </tr>\n",
       "    <tr>\n",
       "      <th>std</th>\n",
       "      <td>644.997468</td>\n",
       "      <td>6.922582</td>\n",
       "      <td>11.944825</td>\n",
       "      <td>20.362413</td>\n",
       "      <td>1.036300</td>\n",
       "      <td>608.298712</td>\n",
       "      <td>13.060369</td>\n",
       "      <td>0.868746</td>\n",
       "      <td>1.128193</td>\n",
       "      <td>0.436746</td>\n",
       "    </tr>\n",
       "    <tr>\n",
       "      <th>min</th>\n",
       "      <td>0.000000</td>\n",
       "      <td>0.000000</td>\n",
       "      <td>-17.800000</td>\n",
       "      <td>0.000000</td>\n",
       "      <td>0.000000</td>\n",
       "      <td>27.000000</td>\n",
       "      <td>-30.600000</td>\n",
       "      <td>0.000000</td>\n",
       "      <td>0.000000</td>\n",
       "      <td>0.000000</td>\n",
       "    </tr>\n",
       "    <tr>\n",
       "      <th>25%</th>\n",
       "      <td>191.000000</td>\n",
       "      <td>5.750000</td>\n",
       "      <td>3.500000</td>\n",
       "      <td>42.000000</td>\n",
       "      <td>0.900000</td>\n",
       "      <td>940.000000</td>\n",
       "      <td>-4.700000</td>\n",
       "      <td>0.000000</td>\n",
       "      <td>0.000000</td>\n",
       "      <td>0.000000</td>\n",
       "    </tr>\n",
       "    <tr>\n",
       "      <th>50%</th>\n",
       "      <td>504.500000</td>\n",
       "      <td>11.500000</td>\n",
       "      <td>13.700000</td>\n",
       "      <td>57.000000</td>\n",
       "      <td>1.500000</td>\n",
       "      <td>1698.000000</td>\n",
       "      <td>5.100000</td>\n",
       "      <td>0.010000</td>\n",
       "      <td>0.000000</td>\n",
       "      <td>0.000000</td>\n",
       "    </tr>\n",
       "    <tr>\n",
       "      <th>75%</th>\n",
       "      <td>1065.250000</td>\n",
       "      <td>17.250000</td>\n",
       "      <td>22.500000</td>\n",
       "      <td>74.000000</td>\n",
       "      <td>2.300000</td>\n",
       "      <td>2000.000000</td>\n",
       "      <td>14.800000</td>\n",
       "      <td>0.930000</td>\n",
       "      <td>0.000000</td>\n",
       "      <td>0.000000</td>\n",
       "    </tr>\n",
       "    <tr>\n",
       "      <th>max</th>\n",
       "      <td>3556.000000</td>\n",
       "      <td>23.000000</td>\n",
       "      <td>39.400000</td>\n",
       "      <td>98.000000</td>\n",
       "      <td>7.400000</td>\n",
       "      <td>2000.000000</td>\n",
       "      <td>27.200000</td>\n",
       "      <td>3.520000</td>\n",
       "      <td>35.000000</td>\n",
       "      <td>8.800000</td>\n",
       "    </tr>\n",
       "  </tbody>\n",
       "</table>\n",
       "</div>"
      ],
      "text/plain": [
       "       Rented Bike Count         Hour  Temperature(�C)  Humidity(%)  \\\n",
       "count        8760.000000  8760.000000      8760.000000  8760.000000   \n",
       "mean          704.602055    11.500000        12.882922    58.226256   \n",
       "std           644.997468     6.922582        11.944825    20.362413   \n",
       "min             0.000000     0.000000       -17.800000     0.000000   \n",
       "25%           191.000000     5.750000         3.500000    42.000000   \n",
       "50%           504.500000    11.500000        13.700000    57.000000   \n",
       "75%          1065.250000    17.250000        22.500000    74.000000   \n",
       "max          3556.000000    23.000000        39.400000    98.000000   \n",
       "\n",
       "       Wind speed (m/s)  Visibility (10m)  Dew point temperature(�C)  \\\n",
       "count       8760.000000       8760.000000                8760.000000   \n",
       "mean           1.724909       1436.825799                   4.073813   \n",
       "std            1.036300        608.298712                  13.060369   \n",
       "min            0.000000         27.000000                 -30.600000   \n",
       "25%            0.900000        940.000000                  -4.700000   \n",
       "50%            1.500000       1698.000000                   5.100000   \n",
       "75%            2.300000       2000.000000                  14.800000   \n",
       "max            7.400000       2000.000000                  27.200000   \n",
       "\n",
       "       Solar Radiation (MJ/m2)  Rainfall(mm)  Snowfall (cm)  \n",
       "count              8760.000000   8760.000000    8760.000000  \n",
       "mean                  0.569111      0.148687       0.075068  \n",
       "std                   0.868746      1.128193       0.436746  \n",
       "min                   0.000000      0.000000       0.000000  \n",
       "25%                   0.000000      0.000000       0.000000  \n",
       "50%                   0.010000      0.000000       0.000000  \n",
       "75%                   0.930000      0.000000       0.000000  \n",
       "max                   3.520000     35.000000       8.800000  "
      ]
     },
     "execution_count": 11,
     "metadata": {},
     "output_type": "execute_result"
    }
   ],
   "source": [
    "df.describe()"
   ]
  },
  {
   "cell_type": "code",
   "execution_count": 12,
   "id": "e160758c",
   "metadata": {},
   "outputs": [],
   "source": [
    "df['Date']=pd.to_datetime(df['Date'],format=\"%d/%m/%Y\")"
   ]
  },
  {
   "cell_type": "code",
   "execution_count": 13,
   "id": "747799d3",
   "metadata": {},
   "outputs": [
    {
     "data": {
      "image/png": "[encoded data removed]",
      "text/plain": [
       "<Figure size 720x720 with 2 Axes>"
      ]
     },
     "metadata": {
      "needs_background": "light"
     },
     "output_type": "display_data"
    }
   ],
   "source": [
    "# correlations between variables\n",
    "\n",
    "\n",
    "plt.figure(figsize=(10,10))\n",
    "sns.heatmap(df.corr(\"pearson\"),\n",
    "            vmin=-1, vmax=1,\n",
    "            cmap='coolwarm',\n",
    "            annot=True, \n",
    "            square=True);"
   ]
  },
  {
   "cell_type": "code",
   "execution_count": 14,
   "id": "32a04eb4",
   "metadata": {},
   "outputs": [],
   "source": [
    "df=df.drop(['Dew point temperature(�C)'],axis=1) "
   ]
  },
  {
   "cell_type": "code",
   "execution_count": 15,
   "id": "5d9ff27c",
   "metadata": {},
   "outputs": [
    {
     "data": {
      "text/html": [
       "<div>\n",
       "<style scoped>\n",
       "    .dataframe tbody tr th:only-of-type {\n",
       "        vertical-align: middle;\n",
       "    }\n",
       "\n",
       "    .dataframe tbody tr th {\n",
       "        vertical-align: top;\n",
       "    }\n",
       "\n",
       "    .dataframe thead th {\n",
       "        text-align: right;\n",
       "    }\n",
       "</style>\n",
       "<table border=\"1\" class=\"dataframe\">\n",
       "  <thead>\n",
       "    <tr style=\"text-align: right;\">\n",
       "      <th></th>\n",
       "      <th>Date</th>\n",
       "      <th>Rented Bike Count</th>\n",
       "      <th>Hour</th>\n",
       "      <th>Temperature(�C)</th>\n",
       "      <th>Humidity(%)</th>\n",
       "      <th>Wind speed (m/s)</th>\n",
       "      <th>Visibility (10m)</th>\n",
       "      <th>Solar Radiation (MJ/m2)</th>\n",
       "      <th>Rainfall(mm)</th>\n",
       "      <th>Snowfall (cm)</th>\n",
       "      <th>Seasons</th>\n",
       "      <th>Holiday</th>\n",
       "      <th>Functioning Day</th>\n",
       "    </tr>\n",
       "  </thead>\n",
       "  <tbody>\n",
       "    <tr>\n",
       "      <th>0</th>\n",
       "      <td>2017-12-01</td>\n",
       "      <td>254</td>\n",
       "      <td>0</td>\n",
       "      <td>-5.2</td>\n",
       "      <td>37</td>\n",
       "      <td>2.2</td>\n",
       "      <td>2000</td>\n",
       "      <td>0.0</td>\n",
       "      <td>0.0</td>\n",
       "      <td>0.0</td>\n",
       "      <td>Winter</td>\n",
       "      <td>No Holiday</td>\n",
       "      <td>Yes</td>\n",
       "    </tr>\n",
       "    <tr>\n",
       "      <th>1</th>\n",
       "      <td>2017-12-01</td>\n",
       "      <td>204</td>\n",
       "      <td>1</td>\n",
       "      <td>-5.5</td>\n",
       "      <td>38</td>\n",
       "      <td>0.8</td>\n",
       "      <td>2000</td>\n",
       "      <td>0.0</td>\n",
       "      <td>0.0</td>\n",
       "      <td>0.0</td>\n",
       "      <td>Winter</td>\n",
       "      <td>No Holiday</td>\n",
       "      <td>Yes</td>\n",
       "    </tr>\n",
       "    <tr>\n",
       "      <th>2</th>\n",
       "      <td>2017-12-01</td>\n",
       "      <td>173</td>\n",
       "      <td>2</td>\n",
       "      <td>-6.0</td>\n",
       "      <td>39</td>\n",
       "      <td>1.0</td>\n",
       "      <td>2000</td>\n",
       "      <td>0.0</td>\n",
       "      <td>0.0</td>\n",
       "      <td>0.0</td>\n",
       "      <td>Winter</td>\n",
       "      <td>No Holiday</td>\n",
       "      <td>Yes</td>\n",
       "    </tr>\n",
       "    <tr>\n",
       "      <th>3</th>\n",
       "      <td>2017-12-01</td>\n",
       "      <td>107</td>\n",
       "      <td>3</td>\n",
       "      <td>-6.2</td>\n",
       "      <td>40</td>\n",
       "      <td>0.9</td>\n",
       "      <td>2000</td>\n",
       "      <td>0.0</td>\n",
       "      <td>0.0</td>\n",
       "      <td>0.0</td>\n",
       "      <td>Winter</td>\n",
       "      <td>No Holiday</td>\n",
       "      <td>Yes</td>\n",
       "    </tr>\n",
       "    <tr>\n",
       "      <th>4</th>\n",
       "      <td>2017-12-01</td>\n",
       "      <td>78</td>\n",
       "      <td>4</td>\n",
       "      <td>-6.0</td>\n",
       "      <td>36</td>\n",
       "      <td>2.3</td>\n",
       "      <td>2000</td>\n",
       "      <td>0.0</td>\n",
       "      <td>0.0</td>\n",
       "      <td>0.0</td>\n",
       "      <td>Winter</td>\n",
       "      <td>No Holiday</td>\n",
       "      <td>Yes</td>\n",
       "    </tr>\n",
       "    <tr>\n",
       "      <th>...</th>\n",
       "      <td>...</td>\n",
       "      <td>...</td>\n",
       "      <td>...</td>\n",
       "      <td>...</td>\n",
       "      <td>...</td>\n",
       "      <td>...</td>\n",
       "      <td>...</td>\n",
       "      <td>...</td>\n",
       "      <td>...</td>\n",
       "      <td>...</td>\n",
       "      <td>...</td>\n",
       "      <td>...</td>\n",
       "      <td>...</td>\n",
       "    </tr>\n",
       "    <tr>\n",
       "      <th>8755</th>\n",
       "      <td>2018-11-30</td>\n",
       "      <td>1003</td>\n",
       "      <td>19</td>\n",
       "      <td>4.2</td>\n",
       "      <td>34</td>\n",
       "      <td>2.6</td>\n",
       "      <td>1894</td>\n",
       "      <td>0.0</td>\n",
       "      <td>0.0</td>\n",
       "      <td>0.0</td>\n",
       "      <td>Autumn</td>\n",
       "      <td>No Holiday</td>\n",
       "      <td>Yes</td>\n",
       "    </tr>\n",
       "    <tr>\n",
       "      <th>8756</th>\n",
       "      <td>2018-11-30</td>\n",
       "      <td>764</td>\n",
       "      <td>20</td>\n",
       "      <td>3.4</td>\n",
       "      <td>37</td>\n",
       "      <td>2.3</td>\n",
       "      <td>2000</td>\n",
       "      <td>0.0</td>\n",
       "      <td>0.0</td>\n",
       "      <td>0.0</td>\n",
       "      <td>Autumn</td>\n",
       "      <td>No Holiday</td>\n",
       "      <td>Yes</td>\n",
       "    </tr>\n",
       "    <tr>\n",
       "      <th>8757</th>\n",
       "      <td>2018-11-30</td>\n",
       "      <td>694</td>\n",
       "      <td>21</td>\n",
       "      <td>2.6</td>\n",
       "      <td>39</td>\n",
       "      <td>0.3</td>\n",
       "      <td>1968</td>\n",
       "      <td>0.0</td>\n",
       "      <td>0.0</td>\n",
       "      <td>0.0</td>\n",
       "      <td>Autumn</td>\n",
       "      <td>No Holiday</td>\n",
       "      <td>Yes</td>\n",
       "    </tr>\n",
       "    <tr>\n",
       "      <th>8758</th>\n",
       "      <td>2018-11-30</td>\n",
       "      <td>712</td>\n",
       "      <td>22</td>\n",
       "      <td>2.1</td>\n",
       "      <td>41</td>\n",
       "      <td>1.0</td>\n",
       "      <td>1859</td>\n",
       "      <td>0.0</td>\n",
       "      <td>0.0</td>\n",
       "      <td>0.0</td>\n",
       "      <td>Autumn</td>\n",
       "      <td>No Holiday</td>\n",
       "      <td>Yes</td>\n",
       "    </tr>\n",
       "    <tr>\n",
       "      <th>8759</th>\n",
       "      <td>2018-11-30</td>\n",
       "      <td>584</td>\n",
       "      <td>23</td>\n",
       "      <td>1.9</td>\n",
       "      <td>43</td>\n",
       "      <td>1.3</td>\n",
       "      <td>1909</td>\n",
       "      <td>0.0</td>\n",
       "      <td>0.0</td>\n",
       "      <td>0.0</td>\n",
       "      <td>Autumn</td>\n",
       "      <td>No Holiday</td>\n",
       "      <td>Yes</td>\n",
       "    </tr>\n",
       "  </tbody>\n",
       "</table>\n",
       "<p>8760 rows × 13 columns</p>\n",
       "</div>"
      ],
      "text/plain": [
       "           Date  Rented Bike Count  Hour  Temperature(�C)  Humidity(%)  \\\n",
       "0    2017-12-01                254     0             -5.2           37   \n",
       "1    2017-12-01                204     1             -5.5           38   \n",
       "2    2017-12-01                173     2             -6.0           39   \n",
       "3    2017-12-01                107     3             -6.2           40   \n",
       "4    2017-12-01                 78     4             -6.0           36   \n",
       "...         ...                ...   ...              ...          ...   \n",
       "8755 2018-11-30               1003    19              4.2           34   \n",
       "8756 2018-11-30                764    20              3.4           37   \n",
       "8757 2018-11-30                694    21              2.6           39   \n",
       "8758 2018-11-30                712    22              2.1           41   \n",
       "8759 2018-11-30                584    23              1.9           43   \n",
       "\n",
       "      Wind speed (m/s)  Visibility (10m)  Solar Radiation (MJ/m2)  \\\n",
       "0                  2.2              2000                      0.0   \n",
       "1                  0.8              2000                      0.0   \n",
       "2                  1.0              2000                      0.0   \n",
       "3                  0.9              2000                      0.0   \n",
       "4                  2.3              2000                      0.0   \n",
       "...                ...               ...                      ...   \n",
       "8755               2.6              1894                      0.0   \n",
       "8756               2.3              2000                      0.0   \n",
       "8757               0.3              1968                      0.0   \n",
       "8758               1.0              1859                      0.0   \n",
       "8759               1.3              1909                      0.0   \n",
       "\n",
       "      Rainfall(mm)  Snowfall (cm) Seasons     Holiday Functioning Day  \n",
       "0              0.0            0.0  Winter  No Holiday             Yes  \n",
       "1              0.0            0.0  Winter  No Holiday             Yes  \n",
       "2              0.0            0.0  Winter  No Holiday             Yes  \n",
       "3              0.0            0.0  Winter  No Holiday             Yes  \n",
       "4              0.0            0.0  Winter  No Holiday             Yes  \n",
       "...            ...            ...     ...         ...             ...  \n",
       "8755           0.0            0.0  Autumn  No Holiday             Yes  \n",
       "8756           0.0            0.0  Autumn  No Holiday             Yes  \n",
       "8757           0.0            0.0  Autumn  No Holiday             Yes  \n",
       "8758           0.0            0.0  Autumn  No Holiday             Yes  \n",
       "8759           0.0            0.0  Autumn  No Holiday             Yes  \n",
       "\n",
       "[8760 rows x 13 columns]"
      ]
     },
     "execution_count": 15,
     "metadata": {},
     "output_type": "execute_result"
    }
   ],
   "source": [
    "df"
   ]
  },
  {
   "cell_type": "code",
   "execution_count": 16,
   "id": "2fb32e33",
   "metadata": {},
   "outputs": [
    {
     "data": {
      "text/html": [
       "<style  type=\"text/css\" >\n",
       "#T_a47b6_row0_col0{\n",
       "            background-color:  #0000ff;\n",
       "            color:  #f1f1f1;\n",
       "        }#T_a47b6_row1_col0{\n",
       "            background-color:  #5c5cfa;\n",
       "            color:  #f1f1f1;\n",
       "        }#T_a47b6_row2_col0{\n",
       "            background-color:  #7676f9;\n",
       "            color:  #000000;\n",
       "        }#T_a47b6_row3_col0{\n",
       "            background-color:  #9494f7;\n",
       "            color:  #000000;\n",
       "        }#T_a47b6_row4_col0{\n",
       "            background-color:  #a0a0f7;\n",
       "            color:  #000000;\n",
       "        }#T_a47b6_row5_col0{\n",
       "            background-color:  #b0b0f6;\n",
       "            color:  #000000;\n",
       "        }#T_a47b6_row6_col0{\n",
       "            background-color:  #e1e1f4;\n",
       "            color:  #000000;\n",
       "        }#T_a47b6_row7_col0{\n",
       "            background-color:  #e5e5f3;\n",
       "            color:  #000000;\n",
       "        }#T_a47b6_row8_col0{\n",
       "            background-color:  #f0f0f3;\n",
       "            color:  #000000;\n",
       "        }</style><table id=\"T_a47b6_\" ><thead>    <tr>        <th class=\"blank level0\" ></th>        <th class=\"col_heading level0 col0\" >Correlation to the target</th>    </tr></thead><tbody>\n",
       "                <tr>\n",
       "                        <th id=\"T_a47b6_level0_row0\" class=\"row_heading level0 row0\" >Rented Bike Count</th>\n",
       "                        <td id=\"T_a47b6_row0_col0\" class=\"data row0 col0\" >1.000000</td>\n",
       "            </tr>\n",
       "            <tr>\n",
       "                        <th id=\"T_a47b6_level0_row1\" class=\"row_heading level0 row1\" >Temperature(�C)</th>\n",
       "                        <td id=\"T_a47b6_row1_col0\" class=\"data row1 col0\" >0.538558</td>\n",
       "            </tr>\n",
       "            <tr>\n",
       "                        <th id=\"T_a47b6_level0_row2\" class=\"row_heading level0 row2\" >Hour</th>\n",
       "                        <td id=\"T_a47b6_row2_col0\" class=\"data row2 col0\" >0.410257</td>\n",
       "            </tr>\n",
       "            <tr>\n",
       "                        <th id=\"T_a47b6_level0_row3\" class=\"row_heading level0 row3\" >Solar Radiation (MJ/m2)</th>\n",
       "                        <td id=\"T_a47b6_row3_col0\" class=\"data row3 col0\" >0.261837</td>\n",
       "            </tr>\n",
       "            <tr>\n",
       "                        <th id=\"T_a47b6_level0_row4\" class=\"row_heading level0 row4\" >Visibility (10m)</th>\n",
       "                        <td id=\"T_a47b6_row4_col0\" class=\"data row4 col0\" >0.199280</td>\n",
       "            </tr>\n",
       "            <tr>\n",
       "                        <th id=\"T_a47b6_level0_row5\" class=\"row_heading level0 row5\" >Wind speed (m/s)</th>\n",
       "                        <td id=\"T_a47b6_row5_col0\" class=\"data row5 col0\" >0.121108</td>\n",
       "            </tr>\n",
       "            <tr>\n",
       "                        <th id=\"T_a47b6_level0_row6\" class=\"row_heading level0 row6\" >Rainfall(mm)</th>\n",
       "                        <td id=\"T_a47b6_row6_col0\" class=\"data row6 col0\" >-0.123074</td>\n",
       "            </tr>\n",
       "            <tr>\n",
       "                        <th id=\"T_a47b6_level0_row7\" class=\"row_heading level0 row7\" >Snowfall (cm)</th>\n",
       "                        <td id=\"T_a47b6_row7_col0\" class=\"data row7 col0\" >-0.141804</td>\n",
       "            </tr>\n",
       "            <tr>\n",
       "                        <th id=\"T_a47b6_level0_row8\" class=\"row_heading level0 row8\" >Humidity(%)</th>\n",
       "                        <td id=\"T_a47b6_row8_col0\" class=\"data row8 col0\" >-0.199780</td>\n",
       "            </tr>\n",
       "    </tbody></table>"
      ],
      "text/plain": [
       "<pandas.io.formats.style.Styler at 0x2e880744310>"
      ]
     },
     "execution_count": 16,
     "metadata": {},
     "output_type": "execute_result"
    }
   ],
   "source": [
    "df1Corr=pd.DataFrame(df.corr().unstack().sort_values(ascending=False)['Rented Bike Count'],columns=['Correlation to the target'])\n",
    "df1Corr.style.background_gradient(cmap=sns.light_palette(\"blue\", as_cmap=True))"
   ]
  },
  {
   "cell_type": "markdown",
   "id": "8f5bdc35",
   "metadata": {},
   "source": [
    "#### Data Preparation and  Visualisation"
   ]
  },
  {
   "cell_type": "code",
   "execution_count": 17,
   "id": "9b632dc1",
   "metadata": {},
   "outputs": [],
   "source": [
    "df['label_day_night']=df['Hour'].apply(lambda x : 'Night' if (x >20 or x<5) else( 'Day'))"
   ]
  },
  {
   "cell_type": "code",
   "execution_count": 18,
   "id": "4b738bae",
   "metadata": {},
   "outputs": [],
   "source": [
    "df['WeekDay']=df[\"Date\"].dt.day_name() "
   ]
  },
  {
   "cell_type": "code",
   "execution_count": 19,
   "id": "04f17072",
   "metadata": {},
   "outputs": [],
   "source": [
    "df['Month']=df['Date'].dt.month"
   ]
  },
  {
   "cell_type": "code",
   "execution_count": 20,
   "id": "9fe09f7a",
   "metadata": {},
   "outputs": [
    {
     "data": {
      "text/plain": [
       "<AxesSubplot:xlabel='Date'>"
      ]
     },
     "execution_count": 20,
     "metadata": {},
     "output_type": "execute_result"
    },
    {
     "data": {
      "image/png": "[encoded data removed]",
      "text/plain": [
       "<Figure size 432x288 with 1 Axes>"
      ]
     },
     "metadata": {
      "needs_background": "light"
     },
     "output_type": "display_data"
    }
   ],
   "source": [
    "# Plotting variables to the target\n",
    "\n",
    "\n",
    "df.plot(x='Date',y='Rented Bike Count',kind='line')"
   ]
  },
  {
   "cell_type": "code",
   "execution_count": 21,
   "id": "c74cbb9e",
   "metadata": {},
   "outputs": [
    {
     "data": {
      "text/html": [
       "<style  type=\"text/css\" >\n",
       "#T_93595_row0_col0{\n",
       "            background-color:  #0000ff;\n",
       "            color:  #f1f1f1;\n",
       "        }#T_93595_row1_col0{\n",
       "            background-color:  #4242fc;\n",
       "            color:  #f1f1f1;\n",
       "        }#T_93595_row2_col0{\n",
       "            background-color:  #5a5afa;\n",
       "            color:  #f1f1f1;\n",
       "        }#T_93595_row3_col0{\n",
       "            background-color:  #f0f0f3;\n",
       "            color:  #000000;\n",
       "        }</style><table id=\"T_93595_\" ><thead>    <tr>        <th class=\"blank level0\" ></th>        <th class=\"col_heading level0 col0\" >Rented Bike Count</th>    </tr>    <tr>        <th class=\"index_name level0\" >Seasons</th>        <th class=\"blank\" ></th>    </tr></thead><tbody>\n",
       "                <tr>\n",
       "                        <th id=\"T_93595_level0_row0\" class=\"row_heading level0 row0\" >Summer</th>\n",
       "                        <td id=\"T_93595_row0_col0\" class=\"data row0 col0\" >2283234</td>\n",
       "            </tr>\n",
       "            <tr>\n",
       "                        <th id=\"T_93595_level0_row1\" class=\"row_heading level0 row1\" >Autumn</th>\n",
       "                        <td id=\"T_93595_row1_col0\" class=\"data row1 col0\" >1790002</td>\n",
       "            </tr>\n",
       "            <tr>\n",
       "                        <th id=\"T_93595_level0_row2\" class=\"row_heading level0 row2\" >Spring</th>\n",
       "                        <td id=\"T_93595_row2_col0\" class=\"data row2 col0\" >1611909</td>\n",
       "            </tr>\n",
       "            <tr>\n",
       "                        <th id=\"T_93595_level0_row3\" class=\"row_heading level0 row3\" >Winter</th>\n",
       "                        <td id=\"T_93595_row3_col0\" class=\"data row3 col0\" >487169</td>\n",
       "            </tr>\n",
       "    </tbody></table>"
      ],
      "text/plain": [
       "<pandas.io.formats.style.Styler at 0x2e880629e20>"
      ]
     },
     "execution_count": 21,
     "metadata": {},
     "output_type": "execute_result"
    }
   ],
   "source": [
    "df1VizSeasons=pd.DataFrame(df.groupby('Seasons').sum()['Rented Bike Count'].sort_values(ascending=False))\n",
    "df1VizSeasons.style.background_gradient(cmap=sns.light_palette(\"blue\", as_cmap=True))"
   ]
  },
  {
   "cell_type": "code",
   "execution_count": 22,
   "id": "bb63edbe",
   "metadata": {},
   "outputs": [
    {
     "data": {
      "text/html": [
       "<style  type=\"text/css\" >\n",
       "#T_4c04e_row0_col0{\n",
       "            background-color:  #ffff00;\n",
       "            color:  #000000;\n",
       "        }#T_4c04e_row1_col0{\n",
       "            background-color:  #fdfd22;\n",
       "            color:  #000000;\n",
       "        }#T_4c04e_row2_col0{\n",
       "            background-color:  #f8f873;\n",
       "            color:  #000000;\n",
       "        }#T_4c04e_row3_col0{\n",
       "            background-color:  #f2f2dd;\n",
       "            color:  #000000;\n",
       "        }</style><table id=\"T_4c04e_\" ><thead>    <tr>        <th class=\"blank level0\" ></th>        <th class=\"col_heading level0 col0\" >Solar Radiation (MJ/m2)</th>    </tr>    <tr>        <th class=\"index_name level0\" >Seasons</th>        <th class=\"blank\" ></th>    </tr></thead><tbody>\n",
       "                <tr>\n",
       "                        <th id=\"T_4c04e_level0_row0\" class=\"row_heading level0 row0\" >Summer</th>\n",
       "                        <td id=\"T_4c04e_row0_col0\" class=\"data row0 col0\" >1680.850000</td>\n",
       "            </tr>\n",
       "            <tr>\n",
       "                        <th id=\"T_4c04e_level0_row1\" class=\"row_heading level0 row1\" >Spring</th>\n",
       "                        <td id=\"T_4c04e_row1_col0\" class=\"data row1 col0\" >1520.840000</td>\n",
       "            </tr>\n",
       "            <tr>\n",
       "                        <th id=\"T_4c04e_level0_row2\" class=\"row_heading level0 row2\" >Autumn</th>\n",
       "                        <td id=\"T_4c04e_row2_col0\" class=\"data row2 col0\" >1139.650000</td>\n",
       "            </tr>\n",
       "            <tr>\n",
       "                        <th id=\"T_4c04e_level0_row3\" class=\"row_heading level0 row3\" >Winter</th>\n",
       "                        <td id=\"T_4c04e_row3_col0\" class=\"data row3 col0\" >644.070000</td>\n",
       "            </tr>\n",
       "    </tbody></table>"
      ],
      "text/plain": [
       "<pandas.io.formats.style.Styler at 0x2e88010c310>"
      ]
     },
     "execution_count": 22,
     "metadata": {},
     "output_type": "execute_result"
    }
   ],
   "source": [
    "df1VizSolarRadiation=pd.DataFrame(df.groupby('Seasons').sum()['Solar Radiation (MJ/m2)'].sort_values(ascending=False))\n",
    "df1VizSolarRadiation.style.background_gradient(cmap=sns.light_palette(\"yellow\", as_cmap=True))"
   ]
  },
  {
   "cell_type": "code",
   "execution_count": 23,
   "id": "60e19c5c",
   "metadata": {},
   "outputs": [
    {
     "data": {
      "text/plain": [
       "<AxesSubplot:ylabel='Rented Bike Count'>"
      ]
     },
     "execution_count": 23,
     "metadata": {},
     "output_type": "execute_result"
    },
    {
     "data": {
      "image/png": "[encoded data removed]",
      "text/plain": [
       "<Figure size 432x288 with 1 Axes>"
      ]
     },
     "metadata": {},
     "output_type": "display_data"
    }
   ],
   "source": [
    "df.groupby('Seasons').sum()['Rented Bike Count'].plot.pie()"
   ]
  },
  {
   "cell_type": "code",
   "execution_count": 24,
   "id": "9eeb408d",
   "metadata": {},
   "outputs": [
    {
     "data": {
      "text/plain": [
       "<AxesSubplot:xlabel='Solar Radiation (MJ/m2)'>"
      ]
     },
     "execution_count": 24,
     "metadata": {},
     "output_type": "execute_result"
    },
    {
     "data": {
      "image/png": "[encoded data removed]",
      "text/plain": [
       "<Figure size 432x288 with 1 Axes>"
      ]
     },
     "metadata": {
      "needs_background": "light"
     },
     "output_type": "display_data"
    }
   ],
   "source": [
    "df.groupby('Solar Radiation (MJ/m2)').mean()['Rented Bike Count'].plot()"
   ]
  },
  {
   "cell_type": "code",
   "execution_count": 25,
   "id": "25128c4b",
   "metadata": {},
   "outputs": [
    {
     "data": {
      "text/plain": [
       "<AxesSubplot:xlabel='Hour'>"
      ]
     },
     "execution_count": 25,
     "metadata": {},
     "output_type": "execute_result"
    },
    {
     "data": {
      "image/png": "[encoded data removed]",
      "text/plain": [
       "<Figure size 432x288 with 1 Axes>"
      ]
     },
     "metadata": {
      "needs_background": "light"
     },
     "output_type": "display_data"
    }
   ],
   "source": [
    "df.groupby('Hour').sum()['Rented Bike Count'].plot.bar()\n",
    "df.groupby('Hour').sum()['Rented Bike Count'].plot()"
   ]
  },
  {
   "cell_type": "code",
   "execution_count": 26,
   "id": "bd6ffb37",
   "metadata": {},
   "outputs": [
    {
     "data": {
      "text/html": [
       "<style  type=\"text/css\" >\n",
       "#T_bbf5a_row0_col0{\n",
       "            background-color:  #ffa500;\n",
       "            color:  #000000;\n",
       "        }#T_bbf5a_row1_col0{\n",
       "            background-color:  #fdb024;\n",
       "            color:  #000000;\n",
       "        }#T_bbf5a_row2_col0{\n",
       "            background-color:  #fcb636;\n",
       "            color:  #000000;\n",
       "        }#T_bbf5a_row3_col0{\n",
       "            background-color:  #fac25b;\n",
       "            color:  #000000;\n",
       "        }#T_bbf5a_row4_col0{\n",
       "            background-color:  #f9cc7b;\n",
       "            color:  #000000;\n",
       "        }#T_bbf5a_row5_col0{\n",
       "            background-color:  #f8ce81;\n",
       "            color:  #000000;\n",
       "        }#T_bbf5a_row6_col0{\n",
       "            background-color:  #f3f0ee;\n",
       "            color:  #000000;\n",
       "        }</style><table id=\"T_bbf5a_\" ><thead>    <tr>        <th class=\"blank level0\" ></th>        <th class=\"col_heading level0 col0\" >Rented Bike Count</th>    </tr>    <tr>        <th class=\"index_name level0\" >WeekDay</th>        <th class=\"blank\" ></th>    </tr></thead><tbody>\n",
       "                <tr>\n",
       "                        <th id=\"T_bbf5a_level0_row0\" class=\"row_heading level0 row0\" >Friday</th>\n",
       "                        <td id=\"T_bbf5a_row0_col0\" class=\"data row0 col0\" >950334</td>\n",
       "            </tr>\n",
       "            <tr>\n",
       "                        <th id=\"T_bbf5a_level0_row1\" class=\"row_heading level0 row1\" >Wednesday</th>\n",
       "                        <td id=\"T_bbf5a_row1_col0\" class=\"data row1 col0\" >923956</td>\n",
       "            </tr>\n",
       "            <tr>\n",
       "                        <th id=\"T_bbf5a_level0_row2\" class=\"row_heading level0 row2\" >Monday</th>\n",
       "                        <td id=\"T_bbf5a_row2_col0\" class=\"data row2 col0\" >911743</td>\n",
       "            </tr>\n",
       "            <tr>\n",
       "                        <th id=\"T_bbf5a_level0_row3\" class=\"row_heading level0 row3\" >Saturday</th>\n",
       "                        <td id=\"T_bbf5a_row3_col0\" class=\"data row3 col0\" >885492</td>\n",
       "            </tr>\n",
       "            <tr>\n",
       "                        <th id=\"T_bbf5a_level0_row4\" class=\"row_heading level0 row4\" >Thursday</th>\n",
       "                        <td id=\"T_bbf5a_row4_col0\" class=\"data row4 col0\" >861999</td>\n",
       "            </tr>\n",
       "            <tr>\n",
       "                        <th id=\"T_bbf5a_level0_row5\" class=\"row_heading level0 row5\" >Tuesday</th>\n",
       "                        <td id=\"T_bbf5a_row5_col0\" class=\"data row5 col0\" >858596</td>\n",
       "            </tr>\n",
       "            <tr>\n",
       "                        <th id=\"T_bbf5a_level0_row6\" class=\"row_heading level0 row6\" >Sunday</th>\n",
       "                        <td id=\"T_bbf5a_row6_col0\" class=\"data row6 col0\" >780194</td>\n",
       "            </tr>\n",
       "    </tbody></table>"
      ],
      "text/plain": [
       "<pandas.io.formats.style.Styler at 0x2e8802c45b0>"
      ]
     },
     "execution_count": 26,
     "metadata": {},
     "output_type": "execute_result"
    }
   ],
   "source": [
    "# Days with highest rented bike are week days\n",
    "\n",
    "\n",
    "df1VizDays=pd.DataFrame(df.groupby('WeekDay').sum()['Rented Bike Count'].sort_values(ascending=False))\n",
    "df1VizDays.style.background_gradient(cmap=sns.light_palette(\"orange\", as_cmap=True))"
   ]
  },
  {
   "cell_type": "code",
   "execution_count": 27,
   "id": "43f36af8",
   "metadata": {},
   "outputs": [
    {
     "data": {
      "text/plain": [
       "<AxesSubplot:xlabel='Temperature(�C)'>"
      ]
     },
     "execution_count": 27,
     "metadata": {},
     "output_type": "execute_result"
    },
    {
     "data": {
      "image/png": "[encoded data removed]",
      "text/plain": [
       "<Figure size 432x288 with 1 Axes>"
      ]
     },
     "metadata": {
      "needs_background": "light"
     },
     "output_type": "display_data"
    }
   ],
   "source": [
    "df.groupby('Temperature(�C)').mean()['Rented Bike Count'].plot()"
   ]
  },
  {
   "cell_type": "code",
   "execution_count": 28,
   "id": "5090f1e4",
   "metadata": {},
   "outputs": [
    {
     "data": {
      "text/plain": [
       "<AxesSubplot:ylabel='Rented Bike Count'>"
      ]
     },
     "execution_count": 28,
     "metadata": {},
     "output_type": "execute_result"
    },
    {
     "data": {
      "image/png": "[encoded data removed]",
      "text/plain": [
       "<Figure size 432x288 with 1 Axes>"
      ]
     },
     "metadata": {},
     "output_type": "display_data"
    }
   ],
   "source": [
    "df.groupby('label_day_night').sum()['Rented Bike Count'].plot.pie()"
   ]
  },
  {
   "cell_type": "code",
   "execution_count": 29,
   "id": "3cb7c76f",
   "metadata": {},
   "outputs": [
    {
     "data": {
      "image/png": "[encoded data removed]",
      "text/plain": [
       "<Figure size 504x504 with 1 Axes>"
      ]
     },
     "metadata": {
      "needs_background": "light"
     },
     "output_type": "display_data"
    }
   ],
   "source": [
    "boxplotDay_night= df.boxplot(['Rented Bike Count'],by='label_day_night',figsize=(7,7))"
   ]
  },
  {
   "cell_type": "code",
   "execution_count": 30,
   "id": "4c6dce9d",
   "metadata": {},
   "outputs": [
    {
     "data": {
      "text/plain": [
       "<AxesSubplot:ylabel='Rented Bike Count'>"
      ]
     },
     "execution_count": 30,
     "metadata": {},
     "output_type": "execute_result"
    },
    {
     "data": {
      "image/png": "[encoded data removed]",
      "text/plain": [
       "<Figure size 432x288 with 1 Axes>"
      ]
     },
     "metadata": {},
     "output_type": "display_data"
    }
   ],
   "source": [
    "df.groupby('Holiday').sum()['Rented Bike Count'].plot.pie(radius=0.5)"
   ]
  },
  {
   "cell_type": "code",
   "execution_count": 31,
   "id": "1ea4b37b",
   "metadata": {},
   "outputs": [],
   "source": [
    "dfHoliday=df.loc[df['Holiday'] == 'Holiday']"
   ]
  },
  {
   "cell_type": "code",
   "execution_count": 32,
   "id": "352d2018",
   "metadata": {},
   "outputs": [
    {
     "data": {
      "text/plain": [
       "(432, 16)"
      ]
     },
     "execution_count": 32,
     "metadata": {},
     "output_type": "execute_result"
    }
   ],
   "source": [
    "dfHoliday.shape"
   ]
  },
  {
   "cell_type": "code",
   "execution_count": 33,
   "id": "b39b6a1c",
   "metadata": {},
   "outputs": [
    {
     "data": {
      "text/plain": [
       "<AxesSubplot:xlabel='Rainfall(mm)'>"
      ]
     },
     "execution_count": 33,
     "metadata": {},
     "output_type": "execute_result"
    },
    {
     "data": {
      "image/png": "[encoded data removed]",
      "text/plain": [
       "<Figure size 432x288 with 1 Axes>"
      ]
     },
     "metadata": {
      "needs_background": "light"
     },
     "output_type": "display_data"
    }
   ],
   "source": [
    "# plot the rent of bikes \n",
    "\n",
    "\n",
    "df.groupby('Rainfall(mm)').mean()['Rented Bike Count'].plot()"
   ]
  },
  {
   "cell_type": "code",
   "execution_count": 34,
   "id": "a1076f9d",
   "metadata": {},
   "outputs": [
    {
     "data": {
      "text/html": [
       "<div>\n",
       "<style scoped>\n",
       "    .dataframe tbody tr th:only-of-type {\n",
       "        vertical-align: middle;\n",
       "    }\n",
       "\n",
       "    .dataframe tbody tr th {\n",
       "        vertical-align: top;\n",
       "    }\n",
       "\n",
       "    .dataframe thead th {\n",
       "        text-align: right;\n",
       "    }\n",
       "</style>\n",
       "<table border=\"1\" class=\"dataframe\">\n",
       "  <thead>\n",
       "    <tr style=\"text-align: right;\">\n",
       "      <th></th>\n",
       "      <th>Date</th>\n",
       "      <th>Rented Bike Count</th>\n",
       "      <th>Hour</th>\n",
       "      <th>Temperature(�C)</th>\n",
       "      <th>Humidity(%)</th>\n",
       "      <th>Wind speed (m/s)</th>\n",
       "      <th>Visibility (10m)</th>\n",
       "      <th>Solar Radiation (MJ/m2)</th>\n",
       "      <th>Rainfall(mm)</th>\n",
       "      <th>Snowfall (cm)</th>\n",
       "      <th>Seasons</th>\n",
       "      <th>Holiday</th>\n",
       "      <th>Functioning Day</th>\n",
       "      <th>label_day_night</th>\n",
       "      <th>WeekDay</th>\n",
       "      <th>Month</th>\n",
       "    </tr>\n",
       "  </thead>\n",
       "  <tbody>\n",
       "    <tr>\n",
       "      <th>5034</th>\n",
       "      <td>2018-06-28</td>\n",
       "      <td>596</td>\n",
       "      <td>18</td>\n",
       "      <td>20.6</td>\n",
       "      <td>97</td>\n",
       "      <td>0.7</td>\n",
       "      <td>222</td>\n",
       "      <td>0.14</td>\n",
       "      <td>21.5</td>\n",
       "      <td>0.0</td>\n",
       "      <td>Summer</td>\n",
       "      <td>No Holiday</td>\n",
       "      <td>Yes</td>\n",
       "      <td>Day</td>\n",
       "      <td>Thursday</td>\n",
       "      <td>6</td>\n",
       "    </tr>\n",
       "    <tr>\n",
       "      <th>5132</th>\n",
       "      <td>2018-07-02</td>\n",
       "      <td>61</td>\n",
       "      <td>20</td>\n",
       "      <td>23.5</td>\n",
       "      <td>97</td>\n",
       "      <td>0.1</td>\n",
       "      <td>1814</td>\n",
       "      <td>0.04</td>\n",
       "      <td>24.0</td>\n",
       "      <td>0.0</td>\n",
       "      <td>Summer</td>\n",
       "      <td>No Holiday</td>\n",
       "      <td>Yes</td>\n",
       "      <td>Day</td>\n",
       "      <td>Monday</td>\n",
       "      <td>7</td>\n",
       "    </tr>\n",
       "    <tr>\n",
       "      <th>6524</th>\n",
       "      <td>2018-08-29</td>\n",
       "      <td>19</td>\n",
       "      <td>20</td>\n",
       "      <td>23.4</td>\n",
       "      <td>98</td>\n",
       "      <td>0.6</td>\n",
       "      <td>70</td>\n",
       "      <td>0.00</td>\n",
       "      <td>21.0</td>\n",
       "      <td>0.0</td>\n",
       "      <td>Summer</td>\n",
       "      <td>No Holiday</td>\n",
       "      <td>Yes</td>\n",
       "      <td>Day</td>\n",
       "      <td>Wednesday</td>\n",
       "      <td>8</td>\n",
       "    </tr>\n",
       "  </tbody>\n",
       "</table>\n",
       "</div>"
      ],
      "text/plain": [
       "           Date  Rented Bike Count  Hour  Temperature(�C)  Humidity(%)  \\\n",
       "5034 2018-06-28                596    18             20.6           97   \n",
       "5132 2018-07-02                 61    20             23.5           97   \n",
       "6524 2018-08-29                 19    20             23.4           98   \n",
       "\n",
       "      Wind speed (m/s)  Visibility (10m)  Solar Radiation (MJ/m2)  \\\n",
       "5034               0.7               222                     0.14   \n",
       "5132               0.1              1814                     0.04   \n",
       "6524               0.6                70                     0.00   \n",
       "\n",
       "      Rainfall(mm)  Snowfall (cm) Seasons     Holiday Functioning Day  \\\n",
       "5034          21.5            0.0  Summer  No Holiday             Yes   \n",
       "5132          24.0            0.0  Summer  No Holiday             Yes   \n",
       "6524          21.0            0.0  Summer  No Holiday             Yes   \n",
       "\n",
       "     label_day_night    WeekDay  Month  \n",
       "5034             Day   Thursday      6  \n",
       "5132             Day     Monday      7  \n",
       "6524             Day  Wednesday      8  "
      ]
     },
     "execution_count": 34,
     "metadata": {},
     "output_type": "execute_result"
    }
   ],
   "source": [
    "df.loc[(df['Rainfall(mm)']>20)&(df['Rainfall(mm)']<25)]"
   ]
  },
  {
   "cell_type": "code",
   "execution_count": 35,
   "id": "4350536e",
   "metadata": {},
   "outputs": [
    {
     "data": {
      "text/plain": [
       "<AxesSubplot:xlabel='Snowfall (cm)'>"
      ]
     },
     "execution_count": 35,
     "metadata": {},
     "output_type": "execute_result"
    },
    {
     "data": {
      "image/png": "[encoded data removed]",
      "text/plain": [
       "<Figure size 432x288 with 1 Axes>"
      ]
     },
     "metadata": {
      "needs_background": "light"
     },
     "output_type": "display_data"
    }
   ],
   "source": [
    "df.groupby('Snowfall (cm)').mean()['Rented Bike Count'].plot()"
   ]
  },
  {
   "cell_type": "code",
   "execution_count": 36,
   "id": "58e6597d",
   "metadata": {},
   "outputs": [],
   "source": [
    "mapping_dictDay={'Monday':1,'Tuesday':2,'Wednesday':3,'Thursday':4,'Friday':5,'Saturday':6,'Sunday':7}\n",
    "\n",
    "df['WeekDayEncoding']=df['WeekDay'].map(mapping_dictDay)"
   ]
  },
  {
   "cell_type": "markdown",
   "id": "929d5ffa",
   "metadata": {},
   "source": [
    "#### Modeling"
   ]
  },
  {
   "cell_type": "code",
   "execution_count": 37,
   "id": "3ba79ecd",
   "metadata": {},
   "outputs": [],
   "source": [
    "from sklearn.model_selection import train_test_split\n",
    "from sklearn import preprocessing\n",
    "from sklearn import linear_model\n",
    "from sklearn.metrics import r2_score,mean_squared_error\n",
    "from sklearn.model_selection import GridSearchCV\n",
    "from sklearn.svm import SVR\n",
    "from sklearn.tree import DecisionTreeRegressor\n",
    "from sklearn.ensemble import RandomForestRegressor\n"
   ]
  },
  {
   "cell_type": "code",
   "execution_count": 38,
   "id": "7525bf46",
   "metadata": {},
   "outputs": [],
   "source": [
    "reporting={}"
   ]
  },
  {
   "cell_type": "code",
   "execution_count": 39,
   "id": "68aaaf5c",
   "metadata": {},
   "outputs": [],
   "source": [
    "X_MultipleLinearRegression=df.drop(['Rented Bike Count','Date','Seasons','Holiday','label_day_night','Functioning Day','WeekDay'],axis =1)\n",
    "y=df.iloc[:,1] #the target\n"
   ]
  },
  {
   "cell_type": "code",
   "execution_count": 40,
   "id": "1aeefc81",
   "metadata": {},
   "outputs": [],
   "source": [
    "X_train,X_test,y_train,y_test=train_test_split(X_MultipleLinearRegression,y,test_size=0.27)"
   ]
  },
  {
   "cell_type": "markdown",
   "id": "edb3eb6d",
   "metadata": {},
   "source": [
    "#### Linear Regression"
   ]
  },
  {
   "cell_type": "code",
   "execution_count": 41,
   "id": "082af5a2",
   "metadata": {},
   "outputs": [],
   "source": [
    "regr = linear_model.LinearRegression()\n",
    "fitregr=regr.fit(X_train, y_train)\n",
    "predregrtrain=fitregr.predict(X_train)\n",
    "predregrtest=fitregr.predict(X_test)"
   ]
  },
  {
   "cell_type": "code",
   "execution_count": 42,
   "id": "1dad2f48",
   "metadata": {},
   "outputs": [
    {
     "name": "stdout",
     "output_type": "stream",
     "text": [
      "The equation of this Linear Regression has format : y= coefficient*Features + intercept\n",
      "Linear model intercept: 513.0579749594648 and the coefficients are: [ 2.62912093e+01  3.17608446e+01 -8.40863473e+00  7.98785036e+00\n",
      "  6.16754439e-03 -8.61577188e+01 -5.73356188e+01  1.48519594e+01\n",
      "  7.91322179e+00 -1.12365371e+01]\n"
     ]
    }
   ],
   "source": [
    "print('The equation of this Linear Regression has format : y= coefficient*Features + intercept')\n",
    "print('Linear model intercept: {} and the coefficients are: {}'\n",
    "     .format(fitregr.intercept_,fitregr.coef_))"
   ]
  },
  {
   "cell_type": "code",
   "execution_count": 43,
   "id": "c7bea834",
   "metadata": {},
   "outputs": [
    {
     "name": "stdout",
     "output_type": "stream",
     "text": [
      "Linear model, R2 train score is : 0.4733810037495402 and the train root mean square is: 469.1664707008095\n",
      "Linear model, R2 test score is : 0.4701709534254551 and the test root mean square is: 466.3123338262925\n"
     ]
    }
   ],
   "source": [
    "train_set_rmse = (np.sqrt(mean_squared_error(predregrtrain,y_train )))\n",
    "train_set_r2 = r2_score(y_train, predregrtrain)\n",
    "print('Linear model, R2 train score is : {} and the train root mean square is: {}'\n",
    "     .format(train_set_r2,train_set_rmse))\n",
    "\n",
    "test_set_rmse = (np.sqrt(mean_squared_error(predregrtest,y_test )))\n",
    "test_set_r2 = r2_score(y_test, predregrtest)\n",
    "print('Linear model, R2 test score is : {} and the test root mean square is: {}'\n",
    "     .format(test_set_r2,test_set_rmse))"
   ]
  },
  {
   "cell_type": "code",
   "execution_count": 44,
   "id": "b6edd626",
   "metadata": {},
   "outputs": [],
   "source": [
    "reporting['Linear regression']=test_set_r2"
   ]
  },
  {
   "cell_type": "markdown",
   "id": "7eb51589",
   "metadata": {},
   "source": [
    "#### Decision Tree Regressor"
   ]
  },
  {
   "cell_type": "code",
   "execution_count": 45,
   "id": "77243a81",
   "metadata": {},
   "outputs": [],
   "source": [
    "scalerTrain = preprocessing.StandardScaler().fit(X_train)\n",
    "scalerTest = preprocessing.StandardScaler().fit(X_test)\n",
    "X_train_Scaled=scalerTrain.transform(X_train)\n",
    "X_test_Scaled=scalerTest.transform(X_test)"
   ]
  },
  {
   "cell_type": "code",
   "execution_count": 46,
   "id": "f2f6e70e",
   "metadata": {},
   "outputs": [],
   "source": [
    "decisionTree = DecisionTreeRegressor()\n",
    "\n",
    "param = {'max_depth' : [1,4,5,6,7,10,15,20,8]}\n",
    "\n",
    "gridSearch_decisionTree=GridSearchCV(decisionTree,param,scoring='r2',cv=6)\n",
    "gridSearch_decisionTree.fit(X_train_Scaled,y_train)\n",
    "\n",
    "\n",
    "best_DecisionTree=gridSearch_decisionTree.best_estimator_\n",
    "bestDecisionTree_testScore=best_DecisionTree.score(X_test_Scaled,y_test)"
   ]
  },
  {
   "cell_type": "code",
   "execution_count": 47,
   "id": "907523de",
   "metadata": {},
   "outputs": [
    {
     "name": "stdout",
     "output_type": "stream",
     "text": [
      "The best Decision Tree R2 score is : 0.72 with max depth = 8.00 \n",
      " \n",
      "The best R2 test score is : 0.73\n",
      " with max depth = 8.00\n",
      " \n"
     ]
    }
   ],
   "source": [
    "print('The best Decision Tree R2 score is : {:.2f} with max depth = {:.2f} \\n \\\n",
    "'.format(gridSearch_decisionTree.best_score_,gridSearch_decisionTree.best_params_['max_depth'] ))\n",
    "print('The best R2 test score is : {:.2f}\\n with max depth = {:.2f}\\n \\\n",
    "'.format(bestDecisionTree_testScore,gridSearch_decisionTree.best_params_['max_depth']))"
   ]
  },
  {
   "cell_type": "code",
   "execution_count": 48,
   "id": "6956affa",
   "metadata": {},
   "outputs": [],
   "source": [
    "reporting['Decision Tree Regressor']=bestDecisionTree_testScore"
   ]
  },
  {
   "cell_type": "markdown",
   "id": "217be5cc",
   "metadata": {},
   "source": [
    "#### Random Forest Regressor"
   ]
  },
  {
   "cell_type": "code",
   "execution_count": 56,
   "id": "4387b26f",
   "metadata": {},
   "outputs": [],
   "source": [
    "randomForestAlgo = RandomForestRegressor()\n",
    "\n",
    "\n",
    "param = {'n_estimators' : [int(x) for x in np.linspace(start=10,stop=100, num=10)], \n",
    "         'max_depth' : [60,70,80,90,100],\n",
    "         'min_samples_split':[2,4,6,8],\n",
    "         'min_samples_leaf':[1,2,3,4],\n",
    "         'bootstrap' : [True,False]\n",
    "        }\n",
    "\n",
    "gridSearch_RandomForest=GridSearchCV(randomForestAlgo,param,scoring='r2',cv=5)\n",
    "gridSearch_RandomForest.fit(X_train_Scaled,y_train)\n",
    "\n",
    "best_randomForest=gridSearch_RandomForest.best_estimator_\n",
    "bestRandomForest_testScore=best_randomForest.score(X_test_Scaled,y_test)"
   ]
  },
  {
   "cell_type": "code",
   "execution_count": 57,
   "id": "321cb518",
   "metadata": {},
   "outputs": [
    {
     "data": {
      "text/plain": [
       "689.56"
      ]
     },
     "execution_count": 57,
     "metadata": {},
     "output_type": "execute_result"
    }
   ],
   "source": [
    "best_randomForest.predict([[10,10,60,3,1000,0,0,2,12,1]])[0]"
   ]
  },
  {
   "cell_type": "code",
   "execution_count": 58,
   "id": "30faddca",
   "metadata": {},
   "outputs": [
    {
     "name": "stdout",
     "output_type": "stream",
     "text": [
      "The best Random Forest R2 train score is : 0.83 with n estimators = 100.00, max depth : 100.00, min samples split : 2 and min samples leaf : 1  \n",
      " \n",
      "The best Random Forest R2 test score is : 0.84 with n estimators = 100.00, max depth : 100.00, min samples split : 2 and min samples leaf : 1  \n",
      " \n"
     ]
    }
   ],
   "source": [
    "print('The best Random Forest R2 train score is : {:.2f} with n estimators = {:.2f}, max depth : {:.2f}, min samples split : {} and min samples leaf : {}  \\n \\\n",
    "'.format(gridSearch_RandomForest.best_score_,gridSearch_RandomForest.best_params_['n_estimators'],gridSearch_RandomForest.best_params_['max_depth'],gridSearch_RandomForest.best_params_['min_samples_split'],gridSearch_RandomForest.best_params_['min_samples_leaf'] ))\n",
    "print('The best Random Forest R2 test score is : {:.2f} with n estimators = {:.2f}, max depth : {:.2f}, min samples split : {} and min samples leaf : {}  \\n \\\n",
    "'.format(bestRandomForest_testScore,gridSearch_RandomForest.best_params_['n_estimators'],gridSearch_RandomForest.best_params_['max_depth'],gridSearch_RandomForest.best_params_['min_samples_split'],gridSearch_RandomForest.best_params_['min_samples_leaf'] ))\n"
   ]
  },
  {
   "cell_type": "code",
   "execution_count": 59,
   "id": "b144fc03",
   "metadata": {},
   "outputs": [],
   "source": [
    "reporting['Random Forest Regressor']=bestRandomForest_testScore"
   ]
  },
  {
   "cell_type": "markdown",
   "id": "c878566d",
   "metadata": {},
   "source": [
    "#### SVR"
   ]
  },
  {
   "cell_type": "code",
   "execution_count": 49,
   "id": "137504bd",
   "metadata": {},
   "outputs": [
    {
     "name": "stdout",
     "output_type": "stream",
     "text": [
      "C = 10.00\n",
      " SVR R2 training: -0.02, R2 test: -0.00\n",
      "\n",
      "C = 50.00\n",
      " SVR R2 training: 0.02, R2 test: 0.03\n",
      "\n",
      "C = 80.00\n",
      " SVR R2 training: 0.04, R2 test: 0.05\n",
      "\n",
      "C = 100.00\n",
      " SVR R2 training: 0.05, R2 test: 0.06\n",
      "\n",
      "C = 500.00\n",
      " SVR R2 training: 0.22, R2 test: 0.23\n",
      "\n",
      "C = 600.00\n",
      " SVR R2 training: 0.25, R2 test: 0.26\n",
      "\n",
      "C = 800.00\n",
      " SVR R2 training: 0.29, R2 test: 0.30\n",
      "\n",
      "C = 1000.00\n",
      " SVR R2 training: 0.32, R2 test: 0.33\n",
      "\n",
      "C = 1400.00\n",
      " SVR R2 training: 0.35, R2 test: 0.36\n",
      "\n",
      "C = 1800.00\n",
      " SVR R2 training: 0.37, R2 test: 0.38\n",
      "\n",
      "C = 2200.00\n",
      " SVR R2 training: 0.38, R2 test: 0.39\n",
      "\n"
     ]
    }
   ],
   "source": [
    "C=[ 10,50,80,100, 500,600,800,1000,1400,1800,2200 ]\n",
    "for i in C:\n",
    "    svr_Model = SVR(C = i).fit(X_train, y_train)\n",
    "    r2_train_svr = svr_Model.score(X_train, y_train)\n",
    "    r2_test_svr=svr_Model.score(X_test, y_test)\n",
    "    print('C = {:.2f}\\n \\\n",
    "SVR R2 training: {:.2f}, R2 test: {:.2f}\\n'\n",
    "         .format(i, r2_train_svr, r2_test_svr))"
   ]
  },
  {
   "cell_type": "code",
   "execution_count": 50,
   "id": "c3cd451a",
   "metadata": {},
   "outputs": [],
   "source": [
    "svr_Model=SVR()\n",
    "\n",
    "param = {'C' : [800,1000,1400,1800,2200]}\n",
    "\n",
    "gridSearchSVR=GridSearchCV(svr_Model,param,scoring='r2',cv=5)\n",
    "gridSearchSVR.fit(X_train,y_train)\n",
    "\n",
    "\n",
    "best_SVR=gridSearchSVR.best_estimator_\n",
    "bestSVR_testScore=best_SVR.score(X_test,y_test)"
   ]
  },
  {
   "cell_type": "code",
   "execution_count": 51,
   "id": "97df4414",
   "metadata": {},
   "outputs": [
    {
     "name": "stdout",
     "output_type": "stream",
     "text": [
      "The best R2 train score is : 0.37 with C = 2200.00\n",
      " \n",
      "The best R2 test score is : 0.39\n",
      " with Alpha = 2200.00\n",
      " \n"
     ]
    }
   ],
   "source": [
    "print('The best R2 train score is : {:.2f} with C = {:.2f}\\n \\\n",
    "'.format(gridSearchSVR.best_score_,gridSearchSVR.best_params_['C']))\n",
    "print('The best R2 test score is : {:.2f}\\n with Alpha = {:.2f}\\n \\\n",
    "'.format(bestSVR_testScore,gridSearchSVR.best_params_['C']))"
   ]
  },
  {
   "cell_type": "code",
   "execution_count": 52,
   "id": "a0745788",
   "metadata": {},
   "outputs": [],
   "source": [
    "reporting['SVR']=gridSearchSVR.best_score_"
   ]
  },
  {
   "cell_type": "code",
   "execution_count": 61,
   "id": "a139638a",
   "metadata": {},
   "outputs": [],
   "source": [
    "df_results=pd.DataFrame()\n",
    "df_results['model']=reporting.keys()\n",
    "df_results['Score R2']=reporting.values()"
   ]
  },
  {
   "cell_type": "code",
   "execution_count": 62,
   "id": "2345e0b5",
   "metadata": {},
   "outputs": [],
   "source": [
    "df_results=df_results.set_index('model')"
   ]
  },
  {
   "cell_type": "code",
   "execution_count": 63,
   "id": "06ad187d",
   "metadata": {},
   "outputs": [
    {
     "data": {
      "text/html": [
       "<style  type=\"text/css\" >\n",
       "#T_926b2_row0_col0{\n",
       "            background-color:  #0000ff;\n",
       "            color:  #f1f1f1;\n",
       "        }#T_926b2_row1_col0{\n",
       "            background-color:  #3636fc;\n",
       "            color:  #f1f1f1;\n",
       "        }#T_926b2_row2_col0{\n",
       "            background-color:  #bdbdf5;\n",
       "            color:  #000000;\n",
       "        }#T_926b2_row3_col0{\n",
       "            background-color:  #f0f0f3;\n",
       "            color:  #000000;\n",
       "        }</style><table id=\"T_926b2_\" ><thead>    <tr>        <th class=\"blank level0\" ></th>        <th class=\"col_heading level0 col0\" >Score R2</th>    </tr>    <tr>        <th class=\"index_name level0\" >model</th>        <th class=\"blank\" ></th>    </tr></thead><tbody>\n",
       "                <tr>\n",
       "                        <th id=\"T_926b2_level0_row0\" class=\"row_heading level0 row0\" >Random Forest Regressor</th>\n",
       "                        <td id=\"T_926b2_row0_col0\" class=\"data row0 col0\" >0.838987</td>\n",
       "            </tr>\n",
       "            <tr>\n",
       "                        <th id=\"T_926b2_level0_row1\" class=\"row_heading level0 row1\" >Decision Tree Regressor</th>\n",
       "                        <td id=\"T_926b2_row1_col0\" class=\"data row1 col0\" >0.734035</td>\n",
       "            </tr>\n",
       "            <tr>\n",
       "                        <th id=\"T_926b2_level0_row2\" class=\"row_heading level0 row2\" >Linear regression</th>\n",
       "                        <td id=\"T_926b2_row2_col0\" class=\"data row2 col0\" >0.470171</td>\n",
       "            </tr>\n",
       "            <tr>\n",
       "                        <th id=\"T_926b2_level0_row3\" class=\"row_heading level0 row3\" >SVR</th>\n",
       "                        <td id=\"T_926b2_row3_col0\" class=\"data row3 col0\" >0.368948</td>\n",
       "            </tr>\n",
       "    </tbody></table>"
      ],
      "text/plain": [
       "<pandas.io.formats.style.Styler at 0x2e88c19a0d0>"
      ]
     },
     "execution_count": 63,
     "metadata": {},
     "output_type": "execute_result"
    }
   ],
   "source": [
    "dfVizModels=pd.DataFrame(df_results['Score R2'].sort_values(ascending=False))\n",
    "dfVizModels.style.background_gradient(cmap=sns.light_palette(\"blue\", as_cmap=True))"
   ]
  },
  {
   "cell_type": "code",
   "execution_count": null,
   "id": "0a46a1af",
   "metadata": {},
   "outputs": [],
   "source": []
  },
  {
   "cell_type": "markdown",
   "id": "692b6961",
   "metadata": {},
   "source": [
    "### The best model after grid search is the Random Forest Regressor\twith 0.83 score"
   ]
  },
  {
   "cell_type": "code",
   "execution_count": null,
   "id": "69063fcc",
   "metadata": {},
   "outputs": [],
   "source": []
  },
  {
   "cell_type": "code",
   "execution_count": null,
   "id": "8c50f9a7",
   "metadata": {},
   "outputs": [],
   "source": []
  }
 ],
 "metadata": {
  "kernelspec": {
   "display_name": "Python 3",
   "language": "python",
   "name": "python3"
  },
  "language_info": {
   "codemirror_mode": {
    "name": "ipython",
    "version": 3
   },
   "file_extension": ".py",
   "mimetype": "text/x-python",
   "name": "python",
   "nbconvert_exporter": "python",
   "pygments_lexer": "ipython3",
   "version": "3.8.8"
  }
 },
 "nbformat": 4,
 "nbformat_minor": 5
}
